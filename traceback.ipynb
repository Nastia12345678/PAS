{
  "nbformat": 4,
  "nbformat_minor": 0,
  "metadata": {
    "colab": {
      "name": "Untitled1.ipynb",
      "provenance": [],
      "collapsed_sections": [],
      "authorship_tag": "ABX9TyPjEaJ5qI6O8LRSyrEIVuPB",
      "include_colab_link": true
    },
    "kernelspec": {
      "name": "python3",
      "display_name": "Python 3"
    }
  },
  "cells": [
    {
      "cell_type": "markdown",
      "metadata": {
        "id": "view-in-github",
        "colab_type": "text"
      },
      "source": [
        "<a href=\"https://colab.research.google.com/github/Nastia12345678/PAS/blob/main/traceback.ipynb\" target=\"_parent\"><img src=\"https://colab.research.google.com/assets/colab-badge.svg\" alt=\"Open In Colab\"/></a>"
      ]
    },
    {
      "cell_type": "markdown",
      "metadata": {
        "id": "DknqmbhlIYJQ"
      },
      "source": [
        "# **traceback** - Исключения и трассировки стека"
      ]
    },
    {
      "cell_type": "markdown",
      "metadata": {
        "id": "UF53Vo6uHIzS"
      },
      "source": [
        "**Traceback** (трассировка) — это отчет, который содержит вызовы выполненных функций в вашем коде в определенный момент.\n"
      ]
    },
    {
      "cell_type": "markdown",
      "metadata": {
        "id": "UGgjF2GKJIbN"
      },
      "source": [
        "# Вспомогательные функции"
      ]
    },
    {
      "cell_type": "markdown",
      "metadata": {
        "id": "FGEGYRgUJZPV"
      },
      "source": [
        "В примерах в этом разделе используется модуль traceback_example.py."
      ]
    },
    {
      "cell_type": "code",
      "metadata": {
        "id": "o7hGzUxZfCwT"
      },
      "source": [
        "#traceback_example.py \n",
        "import traceback\n",
        "import sys\n",
        "\n",
        "\n",
        "def produce_exception(recursion_level=2):\n",
        "    sys.stdout.flush()\n",
        "    if recursion_level:\n",
        "        produce_exception(recursion_level - 1)\n",
        "    else:\n",
        "        raise RuntimeError()\n",
        "\n",
        "\n",
        "def call_function(f, recursion_level=2):\n",
        "    if recursion_level:\n",
        "        return call_function(f, recursion_level - 1)\n",
        "    else:\n",
        "        return f()"
      ],
      "execution_count": 3,
      "outputs": []
    },
    {
      "cell_type": "markdown",
      "metadata": {
        "id": "P0v7BFdjJdCk"
      },
      "source": [
        "# Изучение стека"
      ]
    },
    {
      "cell_type": "markdown",
      "metadata": {
        "id": "8TKrw832JxZg"
      },
      "source": [
        "**format()** Метод создает последовательность форматированных строк готовую для печати."
      ]
    },
    {
      "cell_type": "code",
      "metadata": {
        "id": "qiIKPbmkJoKR",
        "colab": {
          "base_uri": "https://localhost:8080/"
        },
        "outputId": "eef5aac3-66a9-4ae9-cdf4-69afd8b19a90"
      },
      "source": [
        "#traceback_stacksummary.py \n",
        "import traceback\n",
        "import sys\n",
        "\n",
        "\n",
        "def f():\n",
        "    summary = traceback.StackSummary.extract(\n",
        "        traceback.walk_stack(None)\n",
        "    )\n",
        "    print(''.join(summary.format()))\n",
        "\n",
        "\n",
        "print('Calling f() directly:')\n",
        "f()\n",
        "\n",
        "print()\n",
        "print('Calling f() from 3 levels deep:')\n",
        "call_function(f)"
      ],
      "execution_count": 14,
      "outputs": [
        {
          "output_type": "stream",
          "text": [
            "Calling f() directly:\n",
            "  File \"<ipython-input-14-ea768de20117>\", line 8, in f\n",
            "    traceback.walk_stack(None)\n",
            "  File \"<ipython-input-14-ea768de20117>\", line 14, in <module>\n",
            "    f()\n",
            "  File \"/usr/local/lib/python3.6/dist-packages/IPython/core/interactiveshell.py\", line 2882, in run_code\n",
            "    exec(code_obj, self.user_global_ns, self.user_ns)\n",
            "  File \"/usr/local/lib/python3.6/dist-packages/IPython/core/interactiveshell.py\", line 2822, in run_ast_nodes\n",
            "    if self.run_code(code, result):\n",
            "  File \"/usr/local/lib/python3.6/dist-packages/IPython/core/interactiveshell.py\", line 2718, in run_cell\n",
            "    interactivity=interactivity, compiler=compiler, result=result)\n",
            "  File \"/usr/local/lib/python3.6/dist-packages/ipykernel/zmqshell.py\", line 537, in run_cell\n",
            "    return super(ZMQInteractiveShell, self).run_cell(*args, **kwargs)\n",
            "  File \"/usr/local/lib/python3.6/dist-packages/ipykernel/ipkernel.py\", line 208, in do_execute\n",
            "    res = shell.run_cell(code, store_history=store_history, silent=silent)\n",
            "  File \"/usr/local/lib/python3.6/dist-packages/ipykernel/kernelbase.py\", line 399, in execute_request\n",
            "    user_expressions, allow_stdin)\n",
            "  File \"/usr/local/lib/python3.6/dist-packages/ipykernel/kernelbase.py\", line 233, in dispatch_shell\n",
            "    handler(stream, idents, msg)\n",
            "  File \"/usr/local/lib/python3.6/dist-packages/ipykernel/kernelbase.py\", line 283, in dispatcher\n",
            "    return self.dispatch_shell(stream, msg)\n",
            "  File \"/usr/local/lib/python3.6/dist-packages/tornado/stack_context.py\", line 300, in null_wrapper\n",
            "    return fn(*args, **kwargs)\n",
            "  File \"/usr/local/lib/python3.6/dist-packages/zmq/eventloop/zmqstream.py\", line 444, in _run_callback\n",
            "    callback(*args, **kwargs)\n",
            "  File \"/usr/local/lib/python3.6/dist-packages/zmq/eventloop/zmqstream.py\", line 492, in _handle_recv\n",
            "    self._run_callback(callback, msg)\n",
            "  File \"/usr/local/lib/python3.6/dist-packages/zmq/eventloop/zmqstream.py\", line 462, in _handle_events\n",
            "    self._handle_recv()\n",
            "  File \"/usr/local/lib/python3.6/dist-packages/tornado/stack_context.py\", line 300, in null_wrapper\n",
            "    return fn(*args, **kwargs)\n",
            "  File \"/usr/local/lib/python3.6/dist-packages/tornado/platform/asyncio.py\", line 122, in _handle_events\n",
            "    handler_func(fileobj, events)\n",
            "  File \"/usr/lib/python3.6/asyncio/events.py\", line 145, in _run\n",
            "    self._callback(*self._args)\n",
            "  File \"/usr/lib/python3.6/asyncio/base_events.py\", line 1451, in _run_once\n",
            "    handle._run()\n",
            "  File \"/usr/lib/python3.6/asyncio/base_events.py\", line 438, in run_forever\n",
            "    self._run_once()\n",
            "  File \"/usr/local/lib/python3.6/dist-packages/tornado/platform/asyncio.py\", line 132, in start\n",
            "    self.asyncio_loop.run_forever()\n",
            "  File \"/usr/local/lib/python3.6/dist-packages/ipykernel/kernelapp.py\", line 499, in start\n",
            "    self.io_loop.start()\n",
            "  File \"/usr/local/lib/python3.6/dist-packages/traitlets/config/application.py\", line 664, in launch_instance\n",
            "    app.start()\n",
            "  File \"/usr/local/lib/python3.6/dist-packages/ipykernel_launcher.py\", line 16, in <module>\n",
            "    app.launch_new_instance()\n",
            "  File \"/usr/lib/python3.6/runpy.py\", line 85, in _run_code\n",
            "    exec(code, run_globals)\n",
            "  File \"/usr/lib/python3.6/runpy.py\", line 193, in _run_module_as_main\n",
            "    \"__main__\", mod_spec)\n",
            "\n",
            "\n",
            "Calling f() from 3 levels deep:\n",
            "  File \"<ipython-input-14-ea768de20117>\", line 8, in f\n",
            "    traceback.walk_stack(None)\n",
            "  File \"<ipython-input-3-bd1fe809698e>\", line 18, in call_function\n",
            "    return f()\n",
            "  File \"<ipython-input-3-bd1fe809698e>\", line 16, in call_function\n",
            "    return call_function(f, recursion_level - 1)\n",
            "  File \"<ipython-input-3-bd1fe809698e>\", line 16, in call_function\n",
            "    return call_function(f, recursion_level - 1)\n",
            "  File \"<ipython-input-14-ea768de20117>\", line 18, in <module>\n",
            "    call_function(f)\n",
            "  File \"/usr/local/lib/python3.6/dist-packages/IPython/core/interactiveshell.py\", line 2882, in run_code\n",
            "    exec(code_obj, self.user_global_ns, self.user_ns)\n",
            "  File \"/usr/local/lib/python3.6/dist-packages/IPython/core/interactiveshell.py\", line 2828, in run_ast_nodes\n",
            "    if self.run_code(code, result):\n",
            "  File \"/usr/local/lib/python3.6/dist-packages/IPython/core/interactiveshell.py\", line 2718, in run_cell\n",
            "    interactivity=interactivity, compiler=compiler, result=result)\n",
            "  File \"/usr/local/lib/python3.6/dist-packages/ipykernel/zmqshell.py\", line 537, in run_cell\n",
            "    return super(ZMQInteractiveShell, self).run_cell(*args, **kwargs)\n",
            "  File \"/usr/local/lib/python3.6/dist-packages/ipykernel/ipkernel.py\", line 208, in do_execute\n",
            "    res = shell.run_cell(code, store_history=store_history, silent=silent)\n",
            "  File \"/usr/local/lib/python3.6/dist-packages/ipykernel/kernelbase.py\", line 399, in execute_request\n",
            "    user_expressions, allow_stdin)\n",
            "  File \"/usr/local/lib/python3.6/dist-packages/ipykernel/kernelbase.py\", line 233, in dispatch_shell\n",
            "    handler(stream, idents, msg)\n",
            "  File \"/usr/local/lib/python3.6/dist-packages/ipykernel/kernelbase.py\", line 283, in dispatcher\n",
            "    return self.dispatch_shell(stream, msg)\n",
            "  File \"/usr/local/lib/python3.6/dist-packages/tornado/stack_context.py\", line 300, in null_wrapper\n",
            "    return fn(*args, **kwargs)\n",
            "  File \"/usr/local/lib/python3.6/dist-packages/zmq/eventloop/zmqstream.py\", line 444, in _run_callback\n",
            "    callback(*args, **kwargs)\n",
            "  File \"/usr/local/lib/python3.6/dist-packages/zmq/eventloop/zmqstream.py\", line 492, in _handle_recv\n",
            "    self._run_callback(callback, msg)\n",
            "  File \"/usr/local/lib/python3.6/dist-packages/zmq/eventloop/zmqstream.py\", line 462, in _handle_events\n",
            "    self._handle_recv()\n",
            "  File \"/usr/local/lib/python3.6/dist-packages/tornado/stack_context.py\", line 300, in null_wrapper\n",
            "    return fn(*args, **kwargs)\n",
            "  File \"/usr/local/lib/python3.6/dist-packages/tornado/platform/asyncio.py\", line 122, in _handle_events\n",
            "    handler_func(fileobj, events)\n",
            "  File \"/usr/lib/python3.6/asyncio/events.py\", line 145, in _run\n",
            "    self._callback(*self._args)\n",
            "  File \"/usr/lib/python3.6/asyncio/base_events.py\", line 1451, in _run_once\n",
            "    handle._run()\n",
            "  File \"/usr/lib/python3.6/asyncio/base_events.py\", line 438, in run_forever\n",
            "    self._run_once()\n",
            "  File \"/usr/local/lib/python3.6/dist-packages/tornado/platform/asyncio.py\", line 132, in start\n",
            "    self.asyncio_loop.run_forever()\n",
            "  File \"/usr/local/lib/python3.6/dist-packages/ipykernel/kernelapp.py\", line 499, in start\n",
            "    self.io_loop.start()\n",
            "  File \"/usr/local/lib/python3.6/dist-packages/traitlets/config/application.py\", line 664, in launch_instance\n",
            "    app.start()\n",
            "  File \"/usr/local/lib/python3.6/dist-packages/ipykernel_launcher.py\", line 16, in <module>\n",
            "    app.launch_new_instance()\n",
            "  File \"/usr/lib/python3.6/runpy.py\", line 85, in _run_code\n",
            "    exec(code, run_globals)\n",
            "  File \"/usr/lib/python3.6/runpy.py\", line 193, in _run_module_as_main\n",
            "    \"__main__\", mod_spec)\n",
            "\n"
          ],
          "name": "stdout"
        }
      ]
    },
    {
      "cell_type": "markdown",
      "metadata": {
        "id": "CeOeoV2dJ5VD"
      },
      "source": [
        "Это StackSummary итеративный контейнер, содержащий FrameSummary экземпляры."
      ]
    },
    {
      "cell_type": "code",
      "metadata": {
        "id": "xWzf-QhTJ9zE",
        "colab": {
          "base_uri": "https://localhost:8080/"
        },
        "outputId": "4c3d873e-e7a9-488c-ed27-0399791f4c0f"
      },
      "source": [
        "#traceback_framesummary.py \n",
        "import traceback\n",
        "import sys\n",
        "\n",
        "template = (\n",
        "    '{fs.filename:<26}:{fs.lineno}:{fs.name}:\\n'\n",
        "    '    {fs.line}'\n",
        ")\n",
        "\n",
        "\n",
        "def f():\n",
        "    summary = traceback.StackSummary.extract(\n",
        "        traceback.walk_stack(None)\n",
        "    )\n",
        "    for fs in summary:\n",
        "        print(template.format(fs=fs))\n",
        "\n",
        "\n",
        "print('Calling f() directly:')\n",
        "f()\n",
        "\n",
        "print()\n",
        "print('Calling f() from 3 levels deep:')\n",
        "call_function(f)\n"
      ],
      "execution_count": 15,
      "outputs": [
        {
          "output_type": "stream",
          "text": [
            "Calling f() directly:\n",
            "<ipython-input-15-0e32ac60c31b>:13:f:\n",
            "    traceback.walk_stack(None)\n",
            "<ipython-input-15-0e32ac60c31b>:20:<module>:\n",
            "    f()\n",
            "/usr/local/lib/python3.6/dist-packages/IPython/core/interactiveshell.py:2882:run_code:\n",
            "    exec(code_obj, self.user_global_ns, self.user_ns)\n",
            "/usr/local/lib/python3.6/dist-packages/IPython/core/interactiveshell.py:2822:run_ast_nodes:\n",
            "    if self.run_code(code, result):\n",
            "/usr/local/lib/python3.6/dist-packages/IPython/core/interactiveshell.py:2718:run_cell:\n",
            "    interactivity=interactivity, compiler=compiler, result=result)\n",
            "/usr/local/lib/python3.6/dist-packages/ipykernel/zmqshell.py:537:run_cell:\n",
            "    return super(ZMQInteractiveShell, self).run_cell(*args, **kwargs)\n",
            "/usr/local/lib/python3.6/dist-packages/ipykernel/ipkernel.py:208:do_execute:\n",
            "    res = shell.run_cell(code, store_history=store_history, silent=silent)\n",
            "/usr/local/lib/python3.6/dist-packages/ipykernel/kernelbase.py:399:execute_request:\n",
            "    user_expressions, allow_stdin)\n",
            "/usr/local/lib/python3.6/dist-packages/ipykernel/kernelbase.py:233:dispatch_shell:\n",
            "    handler(stream, idents, msg)\n",
            "/usr/local/lib/python3.6/dist-packages/ipykernel/kernelbase.py:283:dispatcher:\n",
            "    return self.dispatch_shell(stream, msg)\n",
            "/usr/local/lib/python3.6/dist-packages/tornado/stack_context.py:300:null_wrapper:\n",
            "    return fn(*args, **kwargs)\n",
            "/usr/local/lib/python3.6/dist-packages/zmq/eventloop/zmqstream.py:444:_run_callback:\n",
            "    callback(*args, **kwargs)\n",
            "/usr/local/lib/python3.6/dist-packages/zmq/eventloop/zmqstream.py:492:_handle_recv:\n",
            "    self._run_callback(callback, msg)\n",
            "/usr/local/lib/python3.6/dist-packages/zmq/eventloop/zmqstream.py:462:_handle_events:\n",
            "    self._handle_recv()\n",
            "/usr/local/lib/python3.6/dist-packages/tornado/stack_context.py:300:null_wrapper:\n",
            "    return fn(*args, **kwargs)\n",
            "/usr/local/lib/python3.6/dist-packages/tornado/platform/asyncio.py:122:_handle_events:\n",
            "    handler_func(fileobj, events)\n",
            "/usr/lib/python3.6/asyncio/events.py:145:_run:\n",
            "    self._callback(*self._args)\n",
            "/usr/lib/python3.6/asyncio/base_events.py:1451:_run_once:\n",
            "    handle._run()\n",
            "/usr/lib/python3.6/asyncio/base_events.py:438:run_forever:\n",
            "    self._run_once()\n",
            "/usr/local/lib/python3.6/dist-packages/tornado/platform/asyncio.py:132:start:\n",
            "    self.asyncio_loop.run_forever()\n",
            "/usr/local/lib/python3.6/dist-packages/ipykernel/kernelapp.py:499:start:\n",
            "    self.io_loop.start()\n",
            "/usr/local/lib/python3.6/dist-packages/traitlets/config/application.py:664:launch_instance:\n",
            "    app.start()\n",
            "/usr/local/lib/python3.6/dist-packages/ipykernel_launcher.py:16:<module>:\n",
            "    app.launch_new_instance()\n",
            "/usr/lib/python3.6/runpy.py:85:_run_code:\n",
            "    exec(code, run_globals)\n",
            "/usr/lib/python3.6/runpy.py:193:_run_module_as_main:\n",
            "    \"__main__\", mod_spec)\n",
            "\n",
            "Calling f() from 3 levels deep:\n",
            "<ipython-input-15-0e32ac60c31b>:13:f:\n",
            "    traceback.walk_stack(None)\n",
            "<ipython-input-3-bd1fe809698e>:18:call_function:\n",
            "    return f()\n",
            "<ipython-input-3-bd1fe809698e>:16:call_function:\n",
            "    return call_function(f, recursion_level - 1)\n",
            "<ipython-input-3-bd1fe809698e>:16:call_function:\n",
            "    return call_function(f, recursion_level - 1)\n",
            "<ipython-input-15-0e32ac60c31b>:24:<module>:\n",
            "    call_function(f)\n",
            "/usr/local/lib/python3.6/dist-packages/IPython/core/interactiveshell.py:2882:run_code:\n",
            "    exec(code_obj, self.user_global_ns, self.user_ns)\n",
            "/usr/local/lib/python3.6/dist-packages/IPython/core/interactiveshell.py:2828:run_ast_nodes:\n",
            "    if self.run_code(code, result):\n",
            "/usr/local/lib/python3.6/dist-packages/IPython/core/interactiveshell.py:2718:run_cell:\n",
            "    interactivity=interactivity, compiler=compiler, result=result)\n",
            "/usr/local/lib/python3.6/dist-packages/ipykernel/zmqshell.py:537:run_cell:\n",
            "    return super(ZMQInteractiveShell, self).run_cell(*args, **kwargs)\n",
            "/usr/local/lib/python3.6/dist-packages/ipykernel/ipkernel.py:208:do_execute:\n",
            "    res = shell.run_cell(code, store_history=store_history, silent=silent)\n",
            "/usr/local/lib/python3.6/dist-packages/ipykernel/kernelbase.py:399:execute_request:\n",
            "    user_expressions, allow_stdin)\n",
            "/usr/local/lib/python3.6/dist-packages/ipykernel/kernelbase.py:233:dispatch_shell:\n",
            "    handler(stream, idents, msg)\n",
            "/usr/local/lib/python3.6/dist-packages/ipykernel/kernelbase.py:283:dispatcher:\n",
            "    return self.dispatch_shell(stream, msg)\n",
            "/usr/local/lib/python3.6/dist-packages/tornado/stack_context.py:300:null_wrapper:\n",
            "    return fn(*args, **kwargs)\n",
            "/usr/local/lib/python3.6/dist-packages/zmq/eventloop/zmqstream.py:444:_run_callback:\n",
            "    callback(*args, **kwargs)\n",
            "/usr/local/lib/python3.6/dist-packages/zmq/eventloop/zmqstream.py:492:_handle_recv:\n",
            "    self._run_callback(callback, msg)\n",
            "/usr/local/lib/python3.6/dist-packages/zmq/eventloop/zmqstream.py:462:_handle_events:\n",
            "    self._handle_recv()\n",
            "/usr/local/lib/python3.6/dist-packages/tornado/stack_context.py:300:null_wrapper:\n",
            "    return fn(*args, **kwargs)\n",
            "/usr/local/lib/python3.6/dist-packages/tornado/platform/asyncio.py:122:_handle_events:\n",
            "    handler_func(fileobj, events)\n",
            "/usr/lib/python3.6/asyncio/events.py:145:_run:\n",
            "    self._callback(*self._args)\n",
            "/usr/lib/python3.6/asyncio/base_events.py:1451:_run_once:\n",
            "    handle._run()\n",
            "/usr/lib/python3.6/asyncio/base_events.py:438:run_forever:\n",
            "    self._run_once()\n",
            "/usr/local/lib/python3.6/dist-packages/tornado/platform/asyncio.py:132:start:\n",
            "    self.asyncio_loop.run_forever()\n",
            "/usr/local/lib/python3.6/dist-packages/ipykernel/kernelapp.py:499:start:\n",
            "    self.io_loop.start()\n",
            "/usr/local/lib/python3.6/dist-packages/traitlets/config/application.py:664:launch_instance:\n",
            "    app.start()\n",
            "/usr/local/lib/python3.6/dist-packages/ipykernel_launcher.py:16:<module>:\n",
            "    app.launch_new_instance()\n",
            "/usr/lib/python3.6/runpy.py:85:_run_code:\n",
            "    exec(code, run_globals)\n",
            "/usr/lib/python3.6/runpy.py:193:_run_module_as_main:\n",
            "    \"__main__\", mod_spec)\n"
          ],
          "name": "stdout"
        }
      ]
    },
    {
      "cell_type": "markdown",
      "metadata": {
        "id": "sQnV3M-kKNm3"
      },
      "source": [
        "# **TracebackException**"
      ]
    },
    {
      "cell_type": "markdown",
      "metadata": {
        "id": "3B3im_0wK3YS"
      },
      "source": [
        "Класс TracebackException — это высокоуровневый интерфейс для создания\n",
        "объектов StackSummary в процессе обработки трассировочной информации."
      ]
    },
    {
      "cell_type": "code",
      "metadata": {
        "id": "yIxvdtaiK9mx",
        "colab": {
          "base_uri": "https://localhost:8080/"
        },
        "outputId": "38d023b2-ec89-451e-e87c-631edc02833b"
      },
      "source": [
        "#traceback_tracebackexception.py \n",
        "import traceback\n",
        "import sys\n",
        "\n",
        "print('with no exception:')\n",
        "exc_type, exc_value, exc_tb = sys.exc_info()\n",
        "tbe = traceback.TracebackException(exc_type, exc_value, exc_tb)\n",
        "print(''.join(tbe.format()))\n",
        "\n",
        "print('\\nwith exception:')\n",
        "try:\n",
        "    produce_exception()\n",
        "except Exception as err:\n",
        "    exc_type, exc_value, exc_tb = sys.exc_info()\n",
        "    tbe = traceback.TracebackException(\n",
        "        exc_type, exc_value, exc_tb,\n",
        "    )\n",
        "    print(''.join(tbe.format()))\n",
        "\n",
        "    print('\\nexception only:')\n",
        "    print(''.join(tbe.format_exception_only()))"
      ],
      "execution_count": 16,
      "outputs": [
        {
          "output_type": "stream",
          "text": [
            "with no exception:\n",
            "None: None\n",
            "\n",
            "\n",
            "with exception:\n",
            "Traceback (most recent call last):\n",
            "  File \"<ipython-input-16-12083bd5110a>\", line 12, in <module>\n",
            "    produce_exception()\n",
            "  File \"<ipython-input-3-bd1fe809698e>\", line 9, in produce_exception\n",
            "    produce_exception(recursion_level - 1)\n",
            "  File \"<ipython-input-3-bd1fe809698e>\", line 9, in produce_exception\n",
            "    produce_exception(recursion_level - 1)\n",
            "  File \"<ipython-input-3-bd1fe809698e>\", line 11, in produce_exception\n",
            "    raise RuntimeError()\n",
            "RuntimeError\n",
            "\n",
            "\n",
            "exception only:\n",
            "RuntimeError\n",
            "\n"
          ],
          "name": "stdout"
        }
      ]
    },
    {
      "cell_type": "markdown",
      "metadata": {
        "id": "6Dl9ZlWeLGH1"
      },
      "source": [
        "**format()** Метод производит отформатированный вариант полного **TRACEBACK**, а **format_exception_only()** показывает только сообщение об исключении."
      ]
    },
    {
      "cell_type": "markdown",
      "metadata": {
        "id": "a1QuKIKrLgzk"
      },
      "source": [
        "# **Низкоуровневые программные интерфейсы исключений**\n"
      ]
    },
    {
      "cell_type": "markdown",
      "metadata": {
        "id": "n4OR_Bg4L2IL"
      },
      "source": [
        "Еще один способ обработки сообщений об исключениях предлагает функция\n",
        "**print_exc()**. Она использует функцию **sys.exc__info()** для получения информации об исключениях, возникших в текущем потоке, форматирует результаты\n",
        "и выводит текст в файл, заданный дескриптором."
      ]
    },
    {
      "cell_type": "code",
      "metadata": {
        "id": "kiWSKAUWMNLa",
        "colab": {
          "base_uri": "https://localhost:8080/"
        },
        "outputId": "41cb53a5-c3f6-44f0-c08f-7e910b90c794"
      },
      "source": [
        "#traceback_print_exc.py \n",
        "import traceback\n",
        "import sys\n",
        "\n",
        "print('print_exc() with no exception:')\n",
        "traceback.print_exc(file=sys.stdout)\n",
        "print()\n",
        "\n",
        "try:\n",
        "    produce_exception()\n",
        "except Exception as err:\n",
        "    print('print_exc():')\n",
        "    traceback.print_exc(file=sys.stdout)\n",
        "    print()\n",
        "    print('print_exc(1):')\n",
        "    traceback.print_exc(limit=1, file=sys.stdout)"
      ],
      "execution_count": 17,
      "outputs": [
        {
          "output_type": "stream",
          "text": [
            "print_exc() with no exception:\n",
            "NoneType: None\n",
            "\n",
            "print_exc():\n",
            "Traceback (most recent call last):\n",
            "  File \"<ipython-input-17-95c78d72f626>\", line 10, in <module>\n",
            "    produce_exception()\n",
            "  File \"<ipython-input-3-bd1fe809698e>\", line 9, in produce_exception\n",
            "    produce_exception(recursion_level - 1)\n",
            "  File \"<ipython-input-3-bd1fe809698e>\", line 9, in produce_exception\n",
            "    produce_exception(recursion_level - 1)\n",
            "  File \"<ipython-input-3-bd1fe809698e>\", line 11, in produce_exception\n",
            "    raise RuntimeError()\n",
            "RuntimeError\n",
            "\n",
            "print_exc(1):\n",
            "Traceback (most recent call last):\n",
            "  File \"<ipython-input-17-95c78d72f626>\", line 10, in <module>\n",
            "    produce_exception()\n",
            "RuntimeError\n"
          ],
          "name": "stdout"
        }
      ]
    },
    {
      "cell_type": "markdown",
      "metadata": {
        "id": "9CeKNw--Maqj"
      },
      "source": [
        "В этом примере дескриптор файла **sys.stdout** заменяется так, чтобы информационные сообщения и сообщения трассировки корректно смешивались."
      ]
    },
    {
      "cell_type": "markdown",
      "metadata": {
        "id": "g1OdIX_WM286"
      },
      "source": [
        "**print_exc()** это просто ярлык для **print_exception()**, который требует явных аргументов."
      ]
    },
    {
      "cell_type": "code",
      "metadata": {
        "id": "MR5LhnHpNBal",
        "colab": {
          "base_uri": "https://localhost:8080/"
        },
        "outputId": "b3488beb-561d-4830-e07f-5baecacbc83b"
      },
      "source": [
        "#traceback_print_exception.py \n",
        "import traceback\n",
        "import sys\n",
        "\n",
        "try:\n",
        "    produce_exception()\n",
        "except Exception as err:\n",
        "    print('print_exception():')\n",
        "    exc_type, exc_value, exc_tb = sys.exc_info()\n",
        "    traceback.print_exception(exc_type, exc_value, exc_tb)"
      ],
      "execution_count": 18,
      "outputs": [
        {
          "output_type": "stream",
          "text": [
            "print_exception():\n"
          ],
          "name": "stdout"
        },
        {
          "output_type": "stream",
          "text": [
            "Traceback (most recent call last):\n",
            "  File \"<ipython-input-18-04f0e3fdfb56>\", line 6, in <module>\n",
            "    produce_exception()\n",
            "  File \"<ipython-input-3-bd1fe809698e>\", line 9, in produce_exception\n",
            "    produce_exception(recursion_level - 1)\n",
            "  File \"<ipython-input-3-bd1fe809698e>\", line 9, in produce_exception\n",
            "    produce_exception(recursion_level - 1)\n",
            "  File \"<ipython-input-3-bd1fe809698e>\", line 11, in produce_exception\n",
            "    raise RuntimeError()\n",
            "RuntimeError\n"
          ],
          "name": "stderr"
        }
      ]
    },
    {
      "cell_type": "markdown",
      "metadata": {
        "id": "Gl-_Ef9FNZY5"
      },
      "source": [
        "Аргументы для функции **print_exception()** получают c помощью функции\n",
        "**sys.exc_info()**."
      ]
    },
    {
      "cell_type": "markdown",
      "metadata": {
        "id": "uyPcpMaYNiVx"
      },
      "source": [
        "Для подготовки текста к выводу функция **print_exception()** использует\n",
        "функцию **format_exception()**."
      ]
    },
    {
      "cell_type": "code",
      "metadata": {
        "id": "wwtjdWwYNcti",
        "colab": {
          "base_uri": "https://localhost:8080/"
        },
        "outputId": "d3b5fae8-79a5-4e44-b73e-f661763f05bb"
      },
      "source": [
        "#traceback_format_exception.py \n",
        "import traceback\n",
        "import sys\n",
        "from pprint import pprint\n",
        "\n",
        "try:\n",
        "    produce_exception()\n",
        "except Exception as err:\n",
        "    print('format_exception():')\n",
        "    exc_type, exc_value, exc_tb = sys.exc_info()\n",
        "    pprint(\n",
        "        traceback.format_exception(exc_type, exc_value, exc_tb),\n",
        "        width=65,\n",
        "    )"
      ],
      "execution_count": 19,
      "outputs": [
        {
          "output_type": "stream",
          "text": [
            "format_exception():\n",
            "['Traceback (most recent call last):\\n',\n",
            " '  File \"<ipython-input-19-42838da877b7>\", line 7, in '\n",
            " '<module>\\n'\n",
            " '    produce_exception()\\n',\n",
            " '  File \"<ipython-input-3-bd1fe809698e>\", line 9, in '\n",
            " 'produce_exception\\n'\n",
            " '    produce_exception(recursion_level - 1)\\n',\n",
            " '  File \"<ipython-input-3-bd1fe809698e>\", line 9, in '\n",
            " 'produce_exception\\n'\n",
            " '    produce_exception(recursion_level - 1)\\n',\n",
            " '  File \"<ipython-input-3-bd1fe809698e>\", line 11, in '\n",
            " 'produce_exception\\n'\n",
            " '    raise RuntimeError()\\n',\n",
            " 'RuntimeError\\n']\n"
          ],
          "name": "stdout"
        }
      ]
    },
    {
      "cell_type": "markdown",
      "metadata": {
        "id": "GNOh8q0GNw71"
      },
      "source": [
        "Функции **format_exception ()** передаются те же три аргумента: тип исключения (exc_type), значение исключения (exc_value) и трассировочная информация (exc_tb)."
      ]
    },
    {
      "cell_type": "markdown",
      "metadata": {
        "id": "LayfbovNN56_"
      },
      "source": [
        "Чтобы обработать трассировочную информацию иным способом, например\n",
        "применить другое форматирование, следует использовать функцию **extract_\n",
        "tb ()**, позволяющую извлечь данные в подходящем виде."
      ]
    },
    {
      "cell_type": "code",
      "metadata": {
        "id": "SUrdCxnbODTT",
        "colab": {
          "base_uri": "https://localhost:8080/"
        },
        "outputId": "aa70b678-3d3b-45bd-d7a2-a380607c4c12"
      },
      "source": [
        "#traceback_extract_tb.py \n",
        "import traceback\n",
        "import sys\n",
        "import os\n",
        "\n",
        "template = '{filename:<23}:{linenum}:{funcname}:\\n    {source}'\n",
        "\n",
        "try:\n",
        "    produce_exception()\n",
        "except Exception as err:\n",
        "    print('format_exception():')\n",
        "    exc_type, exc_value, exc_tb = sys.exc_info()\n",
        "    for tb_info in traceback.extract_tb(exc_tb):\n",
        "        filename, linenum, funcname, source = tb_info\n",
        "        if funcname != '<module>':\n",
        "            funcname = funcname + '()'\n",
        "        print(template.format(\n",
        "            filename=os.path.basename(filename),\n",
        "            linenum=linenum,\n",
        "            source=source,\n",
        "            funcname=funcname)\n",
        "        )"
      ],
      "execution_count": 20,
      "outputs": [
        {
          "output_type": "stream",
          "text": [
            "format_exception():\n",
            "<ipython-input-20-8db8f8563f21>:9:<module>:\n",
            "    produce_exception()\n",
            "<ipython-input-3-bd1fe809698e>:9:produce_exception():\n",
            "    produce_exception(recursion_level - 1)\n",
            "<ipython-input-3-bd1fe809698e>:9:produce_exception():\n",
            "    produce_exception(recursion_level - 1)\n",
            "<ipython-input-3-bd1fe809698e>:11:produce_exception():\n",
            "    raise RuntimeError()\n"
          ],
          "name": "stdout"
        }
      ]
    },
    {
      "cell_type": "markdown",
      "metadata": {
        "id": "xyI7wljlOM5D"
      },
      "source": [
        "Возвращаемое значение — это список записей, которые соответствуют различным уровням стека, представленного объектом трассировки. Каждая запись представляет собой кортеж, включающий четыре элемента: имя исходного файла,\n",
        "номер строки в этом файле, имя функции и исходный код, находящийся в этой\n",
        "строке, c исключенными пробелами (если он доступен)."
      ]
    },
    {
      "cell_type": "markdown",
      "metadata": {
        "id": "3tYEkbp7OQqr"
      },
      "source": [
        "# **Низкоуровневые программные интерфейсы стека**"
      ]
    },
    {
      "cell_type": "markdown",
      "metadata": {
        "id": "iWkhR6zCOYEQ"
      },
      "source": [
        "Аналогичный набор функций доступен для выполнения тех же операций\n",
        "по отношению к текущему стеку вызовов, а не к трассировочной информации.\n",
        "Функция **print_stack ()** выводит текущий стек без возбуждения исключения."
      ]
    },
    {
      "cell_type": "code",
      "metadata": {
        "id": "_sxuZkgoOiCo",
        "colab": {
          "base_uri": "https://localhost:8080/"
        },
        "outputId": "28097a14-dfd1-48fa-b73d-2db4f6c3f0a2"
      },
      "source": [
        "#traceback_print_stack.py \n",
        "import traceback\n",
        "import sys\n",
        "\n",
        "def f():\n",
        "    traceback.print_stack(file=sys.stdout)\n",
        "\n",
        "\n",
        "print('Calling f() directly:')\n",
        "f()\n",
        "\n",
        "print()\n",
        "print('Calling f() from 3 levels deep:')\n",
        "call_function(f)"
      ],
      "execution_count": 21,
      "outputs": [
        {
          "output_type": "stream",
          "text": [
            "Calling f() directly:\n",
            "  File \"/usr/lib/python3.6/runpy.py\", line 193, in _run_module_as_main\n",
            "    \"__main__\", mod_spec)\n",
            "  File \"/usr/lib/python3.6/runpy.py\", line 85, in _run_code\n",
            "    exec(code, run_globals)\n",
            "  File \"/usr/local/lib/python3.6/dist-packages/ipykernel_launcher.py\", line 16, in <module>\n",
            "    app.launch_new_instance()\n",
            "  File \"/usr/local/lib/python3.6/dist-packages/traitlets/config/application.py\", line 664, in launch_instance\n",
            "    app.start()\n",
            "  File \"/usr/local/lib/python3.6/dist-packages/ipykernel/kernelapp.py\", line 499, in start\n",
            "    self.io_loop.start()\n",
            "  File \"/usr/local/lib/python3.6/dist-packages/tornado/platform/asyncio.py\", line 132, in start\n",
            "    self.asyncio_loop.run_forever()\n",
            "  File \"/usr/lib/python3.6/asyncio/base_events.py\", line 438, in run_forever\n",
            "    self._run_once()\n",
            "  File \"/usr/lib/python3.6/asyncio/base_events.py\", line 1451, in _run_once\n",
            "    handle._run()\n",
            "  File \"/usr/lib/python3.6/asyncio/events.py\", line 145, in _run\n",
            "    self._callback(*self._args)\n",
            "  File \"/usr/local/lib/python3.6/dist-packages/tornado/platform/asyncio.py\", line 122, in _handle_events\n",
            "    handler_func(fileobj, events)\n",
            "  File \"/usr/local/lib/python3.6/dist-packages/tornado/stack_context.py\", line 300, in null_wrapper\n",
            "    return fn(*args, **kwargs)\n",
            "  File \"/usr/local/lib/python3.6/dist-packages/zmq/eventloop/zmqstream.py\", line 462, in _handle_events\n",
            "    self._handle_recv()\n",
            "  File \"/usr/local/lib/python3.6/dist-packages/zmq/eventloop/zmqstream.py\", line 492, in _handle_recv\n",
            "    self._run_callback(callback, msg)\n",
            "  File \"/usr/local/lib/python3.6/dist-packages/zmq/eventloop/zmqstream.py\", line 444, in _run_callback\n",
            "    callback(*args, **kwargs)\n",
            "  File \"/usr/local/lib/python3.6/dist-packages/tornado/stack_context.py\", line 300, in null_wrapper\n",
            "    return fn(*args, **kwargs)\n",
            "  File \"/usr/local/lib/python3.6/dist-packages/ipykernel/kernelbase.py\", line 283, in dispatcher\n",
            "    return self.dispatch_shell(stream, msg)\n",
            "  File \"/usr/local/lib/python3.6/dist-packages/ipykernel/kernelbase.py\", line 233, in dispatch_shell\n",
            "    handler(stream, idents, msg)\n",
            "  File \"/usr/local/lib/python3.6/dist-packages/ipykernel/kernelbase.py\", line 399, in execute_request\n",
            "    user_expressions, allow_stdin)\n",
            "  File \"/usr/local/lib/python3.6/dist-packages/ipykernel/ipkernel.py\", line 208, in do_execute\n",
            "    res = shell.run_cell(code, store_history=store_history, silent=silent)\n",
            "  File \"/usr/local/lib/python3.6/dist-packages/ipykernel/zmqshell.py\", line 537, in run_cell\n",
            "    return super(ZMQInteractiveShell, self).run_cell(*args, **kwargs)\n",
            "  File \"/usr/local/lib/python3.6/dist-packages/IPython/core/interactiveshell.py\", line 2718, in run_cell\n",
            "    interactivity=interactivity, compiler=compiler, result=result)\n",
            "  File \"/usr/local/lib/python3.6/dist-packages/IPython/core/interactiveshell.py\", line 2822, in run_ast_nodes\n",
            "    if self.run_code(code, result):\n",
            "  File \"/usr/local/lib/python3.6/dist-packages/IPython/core/interactiveshell.py\", line 2882, in run_code\n",
            "    exec(code_obj, self.user_global_ns, self.user_ns)\n",
            "  File \"<ipython-input-21-183a1f6bd803>\", line 10, in <module>\n",
            "    f()\n",
            "  File \"<ipython-input-21-183a1f6bd803>\", line 6, in f\n",
            "    traceback.print_stack(file=sys.stdout)\n",
            "\n",
            "Calling f() from 3 levels deep:\n",
            "  File \"/usr/lib/python3.6/runpy.py\", line 193, in _run_module_as_main\n",
            "    \"__main__\", mod_spec)\n",
            "  File \"/usr/lib/python3.6/runpy.py\", line 85, in _run_code\n",
            "    exec(code, run_globals)\n",
            "  File \"/usr/local/lib/python3.6/dist-packages/ipykernel_launcher.py\", line 16, in <module>\n",
            "    app.launch_new_instance()\n",
            "  File \"/usr/local/lib/python3.6/dist-packages/traitlets/config/application.py\", line 664, in launch_instance\n",
            "    app.start()\n",
            "  File \"/usr/local/lib/python3.6/dist-packages/ipykernel/kernelapp.py\", line 499, in start\n",
            "    self.io_loop.start()\n",
            "  File \"/usr/local/lib/python3.6/dist-packages/tornado/platform/asyncio.py\", line 132, in start\n",
            "    self.asyncio_loop.run_forever()\n",
            "  File \"/usr/lib/python3.6/asyncio/base_events.py\", line 438, in run_forever\n",
            "    self._run_once()\n",
            "  File \"/usr/lib/python3.6/asyncio/base_events.py\", line 1451, in _run_once\n",
            "    handle._run()\n",
            "  File \"/usr/lib/python3.6/asyncio/events.py\", line 145, in _run\n",
            "    self._callback(*self._args)\n",
            "  File \"/usr/local/lib/python3.6/dist-packages/tornado/platform/asyncio.py\", line 122, in _handle_events\n",
            "    handler_func(fileobj, events)\n",
            "  File \"/usr/local/lib/python3.6/dist-packages/tornado/stack_context.py\", line 300, in null_wrapper\n",
            "    return fn(*args, **kwargs)\n",
            "  File \"/usr/local/lib/python3.6/dist-packages/zmq/eventloop/zmqstream.py\", line 462, in _handle_events\n",
            "    self._handle_recv()\n",
            "  File \"/usr/local/lib/python3.6/dist-packages/zmq/eventloop/zmqstream.py\", line 492, in _handle_recv\n",
            "    self._run_callback(callback, msg)\n",
            "  File \"/usr/local/lib/python3.6/dist-packages/zmq/eventloop/zmqstream.py\", line 444, in _run_callback\n",
            "    callback(*args, **kwargs)\n",
            "  File \"/usr/local/lib/python3.6/dist-packages/tornado/stack_context.py\", line 300, in null_wrapper\n",
            "    return fn(*args, **kwargs)\n",
            "  File \"/usr/local/lib/python3.6/dist-packages/ipykernel/kernelbase.py\", line 283, in dispatcher\n",
            "    return self.dispatch_shell(stream, msg)\n",
            "  File \"/usr/local/lib/python3.6/dist-packages/ipykernel/kernelbase.py\", line 233, in dispatch_shell\n",
            "    handler(stream, idents, msg)\n",
            "  File \"/usr/local/lib/python3.6/dist-packages/ipykernel/kernelbase.py\", line 399, in execute_request\n",
            "    user_expressions, allow_stdin)\n",
            "  File \"/usr/local/lib/python3.6/dist-packages/ipykernel/ipkernel.py\", line 208, in do_execute\n",
            "    res = shell.run_cell(code, store_history=store_history, silent=silent)\n",
            "  File \"/usr/local/lib/python3.6/dist-packages/ipykernel/zmqshell.py\", line 537, in run_cell\n",
            "    return super(ZMQInteractiveShell, self).run_cell(*args, **kwargs)\n",
            "  File \"/usr/local/lib/python3.6/dist-packages/IPython/core/interactiveshell.py\", line 2718, in run_cell\n",
            "    interactivity=interactivity, compiler=compiler, result=result)\n",
            "  File \"/usr/local/lib/python3.6/dist-packages/IPython/core/interactiveshell.py\", line 2828, in run_ast_nodes\n",
            "    if self.run_code(code, result):\n",
            "  File \"/usr/local/lib/python3.6/dist-packages/IPython/core/interactiveshell.py\", line 2882, in run_code\n",
            "    exec(code_obj, self.user_global_ns, self.user_ns)\n",
            "  File \"<ipython-input-21-183a1f6bd803>\", line 14, in <module>\n",
            "    call_function(f)\n",
            "  File \"<ipython-input-3-bd1fe809698e>\", line 16, in call_function\n",
            "    return call_function(f, recursion_level - 1)\n",
            "  File \"<ipython-input-3-bd1fe809698e>\", line 16, in call_function\n",
            "    return call_function(f, recursion_level - 1)\n",
            "  File \"<ipython-input-3-bd1fe809698e>\", line 18, in call_function\n",
            "    return f()\n",
            "  File \"<ipython-input-21-183a1f6bd803>\", line 6, in f\n",
            "    traceback.print_stack(file=sys.stdout)\n"
          ],
          "name": "stdout"
        }
      ]
    },
    {
      "cell_type": "markdown",
      "metadata": {
        "id": "_PtVYPtqOoEa"
      },
      "source": [
        "Результат выглядит как трассировка без сообщения об ошибке."
      ]
    },
    {
      "cell_type": "markdown",
      "metadata": {
        "id": "ThulIzKNOtS5"
      },
      "source": [
        "Функция **format_stack ()** подготавливает информацию о стеке вызовов точно\n",
        "так же, как функция **format exception ()** подготавливает к выводу трассировочную информацию."
      ]
    },
    {
      "cell_type": "code",
      "metadata": {
        "id": "j7ezksOQO4eB",
        "colab": {
          "base_uri": "https://localhost:8080/"
        },
        "outputId": "fccf6033-bca6-43a0-8879-a81350d35aa2"
      },
      "source": [
        "#traceback_format_stack.py \n",
        "import traceback\n",
        "import sys\n",
        "from pprint import pprint\n",
        "\n",
        "def f():\n",
        "    return traceback.format_stack()\n",
        "\n",
        "\n",
        "formatted_stack = call_function(f)\n",
        "pprint(formatted_stack)"
      ],
      "execution_count": 22,
      "outputs": [
        {
          "output_type": "stream",
          "text": [
            "['  File \"/usr/lib/python3.6/runpy.py\", line 193, in _run_module_as_main\\n'\n",
            " '    \"__main__\", mod_spec)\\n',\n",
            " '  File \"/usr/lib/python3.6/runpy.py\", line 85, in _run_code\\n'\n",
            " '    exec(code, run_globals)\\n',\n",
            " '  File \"/usr/local/lib/python3.6/dist-packages/ipykernel_launcher.py\", line '\n",
            " '16, in <module>\\n'\n",
            " '    app.launch_new_instance()\\n',\n",
            " '  File '\n",
            " '\"/usr/local/lib/python3.6/dist-packages/traitlets/config/application.py\", '\n",
            " 'line 664, in launch_instance\\n'\n",
            " '    app.start()\\n',\n",
            " '  File \"/usr/local/lib/python3.6/dist-packages/ipykernel/kernelapp.py\", line '\n",
            " '499, in start\\n'\n",
            " '    self.io_loop.start()\\n',\n",
            " '  File \"/usr/local/lib/python3.6/dist-packages/tornado/platform/asyncio.py\", '\n",
            " 'line 132, in start\\n'\n",
            " '    self.asyncio_loop.run_forever()\\n',\n",
            " '  File \"/usr/lib/python3.6/asyncio/base_events.py\", line 438, in '\n",
            " 'run_forever\\n'\n",
            " '    self._run_once()\\n',\n",
            " '  File \"/usr/lib/python3.6/asyncio/base_events.py\", line 1451, in _run_once\\n'\n",
            " '    handle._run()\\n',\n",
            " '  File \"/usr/lib/python3.6/asyncio/events.py\", line 145, in _run\\n'\n",
            " '    self._callback(*self._args)\\n',\n",
            " '  File \"/usr/local/lib/python3.6/dist-packages/tornado/platform/asyncio.py\", '\n",
            " 'line 122, in _handle_events\\n'\n",
            " '    handler_func(fileobj, events)\\n',\n",
            " '  File \"/usr/local/lib/python3.6/dist-packages/tornado/stack_context.py\", '\n",
            " 'line 300, in null_wrapper\\n'\n",
            " '    return fn(*args, **kwargs)\\n',\n",
            " '  File \"/usr/local/lib/python3.6/dist-packages/zmq/eventloop/zmqstream.py\", '\n",
            " 'line 462, in _handle_events\\n'\n",
            " '    self._handle_recv()\\n',\n",
            " '  File \"/usr/local/lib/python3.6/dist-packages/zmq/eventloop/zmqstream.py\", '\n",
            " 'line 492, in _handle_recv\\n'\n",
            " '    self._run_callback(callback, msg)\\n',\n",
            " '  File \"/usr/local/lib/python3.6/dist-packages/zmq/eventloop/zmqstream.py\", '\n",
            " 'line 444, in _run_callback\\n'\n",
            " '    callback(*args, **kwargs)\\n',\n",
            " '  File \"/usr/local/lib/python3.6/dist-packages/tornado/stack_context.py\", '\n",
            " 'line 300, in null_wrapper\\n'\n",
            " '    return fn(*args, **kwargs)\\n',\n",
            " '  File \"/usr/local/lib/python3.6/dist-packages/ipykernel/kernelbase.py\", '\n",
            " 'line 283, in dispatcher\\n'\n",
            " '    return self.dispatch_shell(stream, msg)\\n',\n",
            " '  File \"/usr/local/lib/python3.6/dist-packages/ipykernel/kernelbase.py\", '\n",
            " 'line 233, in dispatch_shell\\n'\n",
            " '    handler(stream, idents, msg)\\n',\n",
            " '  File \"/usr/local/lib/python3.6/dist-packages/ipykernel/kernelbase.py\", '\n",
            " 'line 399, in execute_request\\n'\n",
            " '    user_expressions, allow_stdin)\\n',\n",
            " '  File \"/usr/local/lib/python3.6/dist-packages/ipykernel/ipkernel.py\", line '\n",
            " '208, in do_execute\\n'\n",
            " '    res = shell.run_cell(code, store_history=store_history, silent=silent)\\n',\n",
            " '  File \"/usr/local/lib/python3.6/dist-packages/ipykernel/zmqshell.py\", line '\n",
            " '537, in run_cell\\n'\n",
            " '    return super(ZMQInteractiveShell, self).run_cell(*args, **kwargs)\\n',\n",
            " '  File '\n",
            " '\"/usr/local/lib/python3.6/dist-packages/IPython/core/interactiveshell.py\", '\n",
            " 'line 2718, in run_cell\\n'\n",
            " '    interactivity=interactivity, compiler=compiler, result=result)\\n',\n",
            " '  File '\n",
            " '\"/usr/local/lib/python3.6/dist-packages/IPython/core/interactiveshell.py\", '\n",
            " 'line 2822, in run_ast_nodes\\n'\n",
            " '    if self.run_code(code, result):\\n',\n",
            " '  File '\n",
            " '\"/usr/local/lib/python3.6/dist-packages/IPython/core/interactiveshell.py\", '\n",
            " 'line 2882, in run_code\\n'\n",
            " '    exec(code_obj, self.user_global_ns, self.user_ns)\\n',\n",
            " '  File \"<ipython-input-22-58f0374f6b6e>\", line 10, in <module>\\n'\n",
            " '    formatted_stack = call_function(f)\\n',\n",
            " '  File \"<ipython-input-3-bd1fe809698e>\", line 16, in call_function\\n'\n",
            " '    return call_function(f, recursion_level - 1)\\n',\n",
            " '  File \"<ipython-input-3-bd1fe809698e>\", line 16, in call_function\\n'\n",
            " '    return call_function(f, recursion_level - 1)\\n',\n",
            " '  File \"<ipython-input-3-bd1fe809698e>\", line 18, in call_function\\n'\n",
            " '    return f()\\n',\n",
            " '  File \"<ipython-input-22-58f0374f6b6e>\", line 7, in f\\n'\n",
            " '    return traceback.format_stack()\\n']\n"
          ],
          "name": "stdout"
        }
      ]
    },
    {
      "cell_type": "markdown",
      "metadata": {
        "id": "txqyCbGHPAcB"
      },
      "source": [
        "Он возвращает список строк, каждая из которых составляет одну строку вывода."
      ]
    },
    {
      "cell_type": "markdown",
      "metadata": {
        "id": "v01w1ybBPGjo"
      },
      "source": [
        "**extract_stack()** Функция работает как **extract_tb()**."
      ]
    },
    {
      "cell_type": "code",
      "metadata": {
        "id": "UjADL4AqPMZZ",
        "colab": {
          "base_uri": "https://localhost:8080/"
        },
        "outputId": "4148096a-e985-489b-d537-7b530185300c"
      },
      "source": [
        "#traceback_extract_stack.py \n",
        "import traceback\n",
        "import sys\n",
        "import os\n",
        "\n",
        "template = '{filename:<26}:{linenum}:{funcname}:\\n    {source}'\n",
        "\n",
        "\n",
        "def f():\n",
        "    return traceback.extract_stack()\n",
        "\n",
        "\n",
        "stack = call_function(f)\n",
        "for filename, linenum, funcname, source in stack:\n",
        "    if funcname != '<module>':\n",
        "        funcname = funcname + '()'\n",
        "    print(template.format(\n",
        "        filename=os.path.basename(filename),\n",
        "        linenum=linenum,\n",
        "        source=source,\n",
        "        funcname=funcname)\n",
        "    )"
      ],
      "execution_count": 23,
      "outputs": [
        {
          "output_type": "stream",
          "text": [
            "runpy.py                  :193:_run_module_as_main():\n",
            "    \"__main__\", mod_spec)\n",
            "runpy.py                  :85:_run_code():\n",
            "    exec(code, run_globals)\n",
            "ipykernel_launcher.py     :16:<module>:\n",
            "    app.launch_new_instance()\n",
            "application.py            :664:launch_instance():\n",
            "    app.start()\n",
            "kernelapp.py              :499:start():\n",
            "    self.io_loop.start()\n",
            "asyncio.py                :132:start():\n",
            "    self.asyncio_loop.run_forever()\n",
            "base_events.py            :438:run_forever():\n",
            "    self._run_once()\n",
            "base_events.py            :1451:_run_once():\n",
            "    handle._run()\n",
            "events.py                 :145:_run():\n",
            "    self._callback(*self._args)\n",
            "asyncio.py                :122:_handle_events():\n",
            "    handler_func(fileobj, events)\n",
            "stack_context.py          :300:null_wrapper():\n",
            "    return fn(*args, **kwargs)\n",
            "zmqstream.py              :462:_handle_events():\n",
            "    self._handle_recv()\n",
            "zmqstream.py              :492:_handle_recv():\n",
            "    self._run_callback(callback, msg)\n",
            "zmqstream.py              :444:_run_callback():\n",
            "    callback(*args, **kwargs)\n",
            "stack_context.py          :300:null_wrapper():\n",
            "    return fn(*args, **kwargs)\n",
            "kernelbase.py             :283:dispatcher():\n",
            "    return self.dispatch_shell(stream, msg)\n",
            "kernelbase.py             :233:dispatch_shell():\n",
            "    handler(stream, idents, msg)\n",
            "kernelbase.py             :399:execute_request():\n",
            "    user_expressions, allow_stdin)\n",
            "ipkernel.py               :208:do_execute():\n",
            "    res = shell.run_cell(code, store_history=store_history, silent=silent)\n",
            "zmqshell.py               :537:run_cell():\n",
            "    return super(ZMQInteractiveShell, self).run_cell(*args, **kwargs)\n",
            "interactiveshell.py       :2718:run_cell():\n",
            "    interactivity=interactivity, compiler=compiler, result=result)\n",
            "interactiveshell.py       :2822:run_ast_nodes():\n",
            "    if self.run_code(code, result):\n",
            "interactiveshell.py       :2882:run_code():\n",
            "    exec(code_obj, self.user_global_ns, self.user_ns)\n",
            "<ipython-input-23-d65e41c7e3be>:13:<module>:\n",
            "    stack = call_function(f)\n",
            "<ipython-input-3-bd1fe809698e>:16:call_function():\n",
            "    return call_function(f, recursion_level - 1)\n",
            "<ipython-input-3-bd1fe809698e>:16:call_function():\n",
            "    return call_function(f, recursion_level - 1)\n",
            "<ipython-input-3-bd1fe809698e>:18:call_function():\n",
            "    return f()\n",
            "<ipython-input-23-d65e41c7e3be>:10:f():\n",
            "    return traceback.extract_stack()\n"
          ],
          "name": "stdout"
        }
      ]
    },
    {
      "cell_type": "markdown",
      "metadata": {
        "id": "mu7fDmcsPTpx"
      },
      "source": [
        "# **Задание:** Вывести отчет об ошибки в любой своей программе с помощью Traceback."
      ]
    }
  ]
}