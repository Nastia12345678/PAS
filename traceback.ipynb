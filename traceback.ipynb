{
  "nbformat": 4,
  "nbformat_minor": 0,
  "metadata": {
    "colab": {
      "name": "Untitled1.ipynb",
      "provenance": [],
      "collapsed_sections": [],
      "authorship_tag": "ABX9TyPjEaJ5qI6O8LRSyrEIVuPB",
      "include_colab_link": true
    },
    "kernelspec": {
      "name": "python3",
      "display_name": "Python 3"
    }
  },
  "cells": [
    {
      "cell_type": "markdown",
      "metadata": {
        "id": "view-in-github",
        "colab_type": "text"
      },
      "source": [
        "<a href=\"https://colab.research.google.com/github/Nastia12345678/PAS/blob/main/traceback.ipynb\" target=\"_parent\"><img src=\"https://colab.research.google.com/assets/colab-badge.svg\" alt=\"Open In Colab\"/></a>"
      ]
    },
    {
      "cell_type": "markdown",
      "metadata": {
        "id": "DknqmbhlIYJQ"
      },
      "source": [
        "# **traceback** - Исключения и трассировки стека"
      ]
    },
    {
      "cell_type": "markdown",
      "metadata": {
        "id": "UF53Vo6uHIzS"
      },
      "source": [
        "**Traceback** (трассировка) — это отчет, который содержит вызовы выполненных функций в вашем коде в определенный момент.\n"
      ]
    },
    {
      "cell_type": "markdown",
      "metadata": {
        "id": "UGgjF2GKJIbN"
      },
      "source": [
        "# Вспомогательные функции"
      ]
    },
    {
      "cell_type": "markdown",
      "metadata": {
        "id": "FGEGYRgUJZPV"
      },
      "source": [
        "В примерах в этом разделе используется модуль traceback_example.py."
      ]
    },
    {
      "cell_type": "code",
      "metadata": {
        "id": "o7hGzUxZfCwT"
      },
      "source": [
        "#traceback_example.py \n",
        "import traceback\n",
        "import sys\n",
        "\n",
        "\n",
        "def produce_exception(recursion_level=2):\n",
        "    sys.stdout.flush()\n",
        "    if recursion_level:\n",
        "        produce_exception(recursion_level - 1)\n",
        "    else:\n",
        "        raise RuntimeError()\n",
        "\n",
        "\n",
        "def call_function(f, recursion_level=2):\n",
        "    if recursion_level:\n",
        "        return call_function(f, recursion_level - 1)\n",
        "    else:\n",
        "        return f()"
      ],
      "execution_count": 3,
      "outputs": []
    },
    {
      "cell_type": "markdown",
      "metadata": {
        "id": "P0v7BFdjJdCk"
      },
      "source": [
        "# Изучение стека"
      ]
    },
    {
      "cell_type": "markdown",
      "metadata": {
        "id": "8TKrw832JxZg"
      },
      "source": [
        "**format()** Метод создает последовательность форматированных строк готовую для печати."
      ]
    },
    {
      "cell_type": "code",
      "metadata": {
        "id": "qiIKPbmkJoKR"
      },
      "source": [
        "#traceback_stacksummary.py \n",
        "import traceback\n",
        "import sys\n",
        "\n",
        "\n",
        "def f():\n",
        "    summary = traceback.StackSummary.extract(\n",
        "        traceback.walk_stack(None)\n",
        "    )\n",
        "    print(''.join(summary.format()))\n",
        "\n",
        "\n",
        "print('Calling f() directly:')\n",
        "f()\n",
        "\n",
        "print()\n",
        "print('Calling f() from 3 levels deep:')\n",
        "call_function(f)"
      ],
      "execution_count": null,
      "outputs": []
    },
    {
      "cell_type": "markdown",
      "metadata": {
        "id": "CeOeoV2dJ5VD"
      },
      "source": [
        "Это StackSummary итеративный контейнер, содержащий FrameSummary экземпляры."
      ]
    },
    {
      "cell_type": "code",
      "metadata": {
        "id": "xWzf-QhTJ9zE"
      },
      "source": [
        "#traceback_framesummary.py \n",
        "import traceback\n",
        "import sys\n",
        "\n",
        "template = (\n",
        "    '{fs.filename:<26}:{fs.lineno}:{fs.name}:\\n'\n",
        "    '    {fs.line}'\n",
        ")\n",
        "\n",
        "\n",
        "def f():\n",
        "    summary = traceback.StackSummary.extract(\n",
        "        traceback.walk_stack(None)\n",
        "    )\n",
        "    for fs in summary:\n",
        "        print(template.format(fs=fs))\n",
        "\n",
        "\n",
        "print('Calling f() directly:')\n",
        "f()\n",
        "\n",
        "print()\n",
        "print('Calling f() from 3 levels deep:')\n",
        "call_function(f)\n"
      ],
      "execution_count": null,
      "outputs": []
    },
    {
      "cell_type": "markdown",
      "metadata": {
        "id": "sQnV3M-kKNm3"
      },
      "source": [
        "# **TracebackException**"
      ]
    },
    {
      "cell_type": "markdown",
      "metadata": {
        "id": "3B3im_0wK3YS"
      },
      "source": [
        "Класс TracebackException — это высокоуровневый интерфейс для создания\n",
        "объектов StackSummary в процессе обработки трассировочной информации."
      ]
    },
    {
      "cell_type": "code",
      "metadata": {
        "id": "yIxvdtaiK9mx"
      },
      "source": [
        "#traceback_tracebackexception.py \n",
        "import traceback\n",
        "import sys\n",
        "\n",
        "print('with no exception:')\n",
        "exc_type, exc_value, exc_tb = sys.exc_info()\n",
        "tbe = traceback.TracebackException(exc_type, exc_value, exc_tb)\n",
        "print(''.join(tbe.format()))\n",
        "\n",
        "print('\\nwith exception:')\n",
        "try:\n",
        "    produce_exception()\n",
        "except Exception as err:\n",
        "    exc_type, exc_value, exc_tb = sys.exc_info()\n",
        "    tbe = traceback.TracebackException(\n",
        "        exc_type, exc_value, exc_tb,\n",
        "    )\n",
        "    print(''.join(tbe.format()))\n",
        "\n",
        "    print('\\nexception only:')\n",
        "    print(''.join(tbe.format_exception_only()))"
      ],
      "execution_count": null,
      "outputs": []
    },
    {
      "cell_type": "markdown",
      "metadata": {
        "id": "6Dl9ZlWeLGH1"
      },
      "source": [
        "**format()** Метод производит отформатированный вариант полного **TRACEBACK**, а **format_exception_only()** показывает только сообщение об исключении."
      ]
    },
    {
      "cell_type": "markdown",
      "metadata": {
        "id": "a1QuKIKrLgzk"
      },
      "source": [
        "# **Низкоуровневые программные интерфейсы исключений**\n"
      ]
    },
    {
      "cell_type": "markdown",
      "metadata": {
        "id": "n4OR_Bg4L2IL"
      },
      "source": [
        "Еще один способ обработки сообщений об исключениях предлагает функция\n",
        "**print_exc()**. Она использует функцию **sys.exc__info()** для получения информации об исключениях, возникших в текущем потоке, форматирует результаты\n",
        "и выводит текст в файл, заданный дескриптором."
      ]
    },
    {
      "cell_type": "code",
      "metadata": {
        "id": "kiWSKAUWMNLa"
      },
      "source": [
        "#traceback_print_exc.py \n",
        "import traceback\n",
        "import sys\n",
        "\n",
        "print('print_exc() with no exception:')\n",
        "traceback.print_exc(file=sys.stdout)\n",
        "print()\n",
        "\n",
        "try:\n",
        "    produce_exception()\n",
        "except Exception as err:\n",
        "    print('print_exc():')\n",
        "    traceback.print_exc(file=sys.stdout)\n",
        "    print()\n",
        "    print('print_exc(1):')\n",
        "    traceback.print_exc(limit=1, file=sys.stdout)"
      ],
      "execution_count": null,
      "outputs": []
    },
    {
      "cell_type": "markdown",
      "metadata": {
        "id": "9CeKNw--Maqj"
      },
      "source": [
        "В этом примере дескриптор файла **sys.stdout** заменяется так, чтобы информационные сообщения и сообщения трассировки корректно смешивались."
      ]
    },
    {
      "cell_type": "markdown",
      "metadata": {
        "id": "g1OdIX_WM286"
      },
      "source": [
        "**print_exc()** это просто ярлык для **print_exception()**, который требует явных аргументов."
      ]
    },
    {
      "cell_type": "code",
      "metadata": {
        "id": "MR5LhnHpNBal"
      },
      "source": [
        "#traceback_print_exception.py \n",
        "import traceback\n",
        "import sys\n",
        "\n",
        "try:\n",
        "    produce_exception()\n",
        "except Exception as err:\n",
        "    print('print_exception():')\n",
        "    exc_type, exc_value, exc_tb = sys.exc_info()\n",
        "    traceback.print_exception(exc_type, exc_value, exc_tb)"
      ],
      "execution_count": null,
      "outputs": []
    },
    {
      "cell_type": "markdown",
      "metadata": {
        "id": "Gl-_Ef9FNZY5"
      },
      "source": [
        "Аргументы для функции **print_exception()** получают c помощью функции\n",
        "**sys.exc_info()**."
      ]
    },
    {
      "cell_type": "markdown",
      "metadata": {
        "id": "uyPcpMaYNiVx"
      },
      "source": [
        "Для подготовки текста к выводу функция **print_exception()** использует\n",
        "функцию **format_exception()**."
      ]
    },
    {
      "cell_type": "code",
      "metadata": {
        "id": "wwtjdWwYNcti"
      },
      "source": [
        "#traceback_format_exception.py \n",
        "import traceback\n",
        "import sys\n",
        "from pprint import pprint\n",
        "\n",
        "try:\n",
        "    produce_exception()\n",
        "except Exception as err:\n",
        "    print('format_exception():')\n",
        "    exc_type, exc_value, exc_tb = sys.exc_info()\n",
        "    pprint(\n",
        "        traceback.format_exception(exc_type, exc_value, exc_tb),\n",
        "        width=65,\n",
        "    )"
      ],
      "execution_count": null,
      "outputs": []
    },
    {
      "cell_type": "markdown",
      "metadata": {
        "id": "GNOh8q0GNw71"
      },
      "source": [
        "Функции **format_exception ()** передаются те же три аргумента: тип исключения (exc_type), значение исключения (exc_value) и трассировочная информация (exc_tb)."
      ]
    },
    {
      "cell_type": "markdown",
      "metadata": {
        "id": "LayfbovNN56_"
      },
      "source": [
        "Чтобы обработать трассировочную информацию иным способом, например\n",
        "применить другое форматирование, следует использовать функцию **extract_\n",
        "tb ()**, позволяющую извлечь данные в подходящем виде."
      ]
    },
    {
      "cell_type": "code",
      "metadata": {
        "id": "SUrdCxnbODTT"
      },
      "source": [
        "#traceback_extract_tb.py \n",
        "import traceback\n",
        "import sys\n",
        "import os\n",
        "\n",
        "template = '{filename:<23}:{linenum}:{funcname}:\\n    {source}'\n",
        "\n",
        "try:\n",
        "    produce_exception()\n",
        "except Exception as err:\n",
        "    print('format_exception():')\n",
        "    exc_type, exc_value, exc_tb = sys.exc_info()\n",
        "    for tb_info in traceback.extract_tb(exc_tb):\n",
        "        filename, linenum, funcname, source = tb_info\n",
        "        if funcname != '<module>':\n",
        "            funcname = funcname + '()'\n",
        "        print(template.format(\n",
        "            filename=os.path.basename(filename),\n",
        "            linenum=linenum,\n",
        "            source=source,\n",
        "            funcname=funcname)\n",
        "        )"
      ],
      "execution_count": null,
      "outputs": []
    },
    {
      "cell_type": "markdown",
      "metadata": {
        "id": "xyI7wljlOM5D"
      },
      "source": [
        "Возвращаемое значение — это список записей, которые соответствуют различным уровням стека, представленного объектом трассировки. Каждая запись представляет собой кортеж, включающий четыре элемента: имя исходного файла,\n",
        "номер строки в этом файле, имя функции и исходный код, находящийся в этой\n",
        "строке, c исключенными пробелами (если он доступен)."
      ]
    },
    {
      "cell_type": "markdown",
      "metadata": {
        "id": "3tYEkbp7OQqr"
      },
      "source": [
        "# **Низкоуровневые программные интерфейсы стека**"
      ]
    },
    {
      "cell_type": "markdown",
      "metadata": {
        "id": "iWkhR6zCOYEQ"
      },
      "source": [
        "Аналогичный набор функций доступен для выполнения тех же операций\n",
        "по отношению к текущему стеку вызовов, а не к трассировочной информации.\n",
        "Функция **print_stack ()** выводит текущий стек без возбуждения исключения."
      ]
    },
    {
      "cell_type": "code",
      "metadata": {
        "id": "_sxuZkgoOiCo"
      },
      "source": [
        "#traceback_print_stack.py \n",
        "import traceback\n",
        "import sys\n",
        "\n",
        "def f():\n",
        "    traceback.print_stack(file=sys.stdout)\n",
        "\n",
        "\n",
        "print('Calling f() directly:')\n",
        "f()\n",
        "\n",
        "print()\n",
        "print('Calling f() from 3 levels deep:')\n",
        "call_function(f)"
      ],
      "execution_count": null,
      "outputs": []
    },
    {
      "cell_type": "markdown",
      "metadata": {
        "id": "_PtVYPtqOoEa"
      },
      "source": [
        "Результат выглядит как трассировка без сообщения об ошибке."
      ]
    },
    {
      "cell_type": "markdown",
      "metadata": {
        "id": "ThulIzKNOtS5"
      },
      "source": [
        "Функция **format_stack ()** подготавливает информацию о стеке вызовов точно\n",
        "так же, как функция **format exception ()** подготавливает к выводу трассировочную информацию."
      ]
    },
    {
      "cell_type": "code",
      "metadata": {
        "id": "j7ezksOQO4eB"
      },
      "source": [
        "#traceback_format_stack.py \n",
        "import traceback\n",
        "import sys\n",
        "from pprint import pprint\n",
        "\n",
        "def f():\n",
        "    return traceback.format_stack()\n",
        "\n",
        "\n",
        "formatted_stack = call_function(f)\n",
        "pprint(formatted_stack)"
      ],
      "execution_count": null,
      "outputs": []
    },
    {
      "cell_type": "markdown",
      "metadata": {
        "id": "txqyCbGHPAcB"
      },
      "source": [
        "Он возвращает список строк, каждая из которых составляет одну строку вывода."
      ]
    },
    {
      "cell_type": "markdown",
      "metadata": {
        "id": "v01w1ybBPGjo"
      },
      "source": [
        "**extract_stack()** Функция работает как **extract_tb()**."
      ]
    },
    {
      "cell_type": "code",
      "metadata": {
        "id": "UjADL4AqPMZZ"
      },
      "source": [
        "#traceback_extract_stack.py \n",
        "import traceback\n",
        "import sys\n",
        "import os\n",
        "\n",
        "template = '{filename:<26}:{linenum}:{funcname}:\\n    {source}'\n",
        "\n",
        "\n",
        "def f():\n",
        "    return traceback.extract_stack()\n",
        "\n",
        "\n",
        "stack = call_function(f)\n",
        "for filename, linenum, funcname, source in stack:\n",
        "    if funcname != '<module>':\n",
        "        funcname = funcname + '()'\n",
        "    print(template.format(\n",
        "        filename=os.path.basename(filename),\n",
        "        linenum=linenum,\n",
        "        source=source,\n",
        "        funcname=funcname)\n",
        "    )"
      ],
      "execution_count": null,
      "outputs": []
    },
    {
      "cell_type": "markdown",
      "metadata": {
        "id": "mu7fDmcsPTpx"
      },
      "source": [
        "# **Задание:** Вывести отчет об ошибки в любой своей программе с помощью Traceback."
      ]
    }
  ]
}