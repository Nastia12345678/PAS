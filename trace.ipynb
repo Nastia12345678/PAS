{
  "nbformat": 4,
  "nbformat_minor": 0,
  "metadata": {
    "colab": {
      "name": "Untitled1.ipynb",
      "provenance": [],
      "collapsed_sections": [],
      "authorship_tag": "ABX9TyObRcQHMqcibq+ZHEf/HABO",
      "include_colab_link": true
    },
    "kernelspec": {
      "name": "python3",
      "display_name": "Python 3"
    }
  },
  "cells": [
    {
      "cell_type": "markdown",
      "metadata": {
        "id": "view-in-github",
        "colab_type": "text"
      },
      "source": [
        "<a href=\"https://colab.research.google.com/github/Nastia12345678/PAS/blob/main/trace.ipynb\" target=\"_parent\"><img src=\"https://colab.research.google.com/assets/colab-badge.svg\" alt=\"Open In Colab\"/></a>"
      ]
    },
    {
      "cell_type": "markdown",
      "metadata": {
        "id": "O1GQy5BwhqGI"
      },
      "source": [
        "# **trace**: трассировка выполнения программы"
      ]
    },
    {
      "cell_type": "markdown",
      "metadata": {
        "id": "rJfhn8CIh11X"
      },
      "source": [
        "Модуль **trace** позволяет наблюдать за выполнением инструкций, создавать отчеты\n",
        "о покрытии кода и исследовать отношения между функциями, вызывающими\n",
        "одна другую."
      ]
    },
    {
      "cell_type": "markdown",
      "metadata": {
        "id": "3bd15tMXiaDG"
      },
      "source": [
        "# Пример программы "
      ]
    },
    {
      "cell_type": "code",
      "metadata": {
        "id": "43waioxWbQ07"
      },
      "source": [
        "#trace_example / main.py \n",
        "def main():\n",
        "    print('This is the main program.')\n",
        "    recurse(2)\n",
        "\n",
        "if __name__ == '__main__':\n",
        "    main()"
      ],
      "execution_count": null,
      "outputs": []
    },
    {
      "cell_type": "code",
      "metadata": {
        "id": "3dOjI0FxfAVA"
      },
      "source": [
        "#trace_example / recurse.py \n",
        "def recurse(level):\n",
        "    print('recurse({})'.format(level))\n",
        "    if level:\n",
        "        recurse(level - 1)\n",
        "\n",
        "\n",
        "def not_called():\n",
        "    print('This function is never called.')\n"
      ],
      "execution_count": 64,
      "outputs": []
    },
    {
      "cell_type": "markdown",
      "metadata": {
        "id": "ZAPezsiplx9V"
      },
      "source": [
        "# Отслеживание выполнения \n"
      ]
    },
    {
      "cell_type": "code",
      "metadata": {
        "id": "8Hg38WZ6p-Eh"
      },
      "source": [
        "$ python3 -m trace --ignore-dir=.../lib/python3.7 \\\n",
        "--trace trace_example/main.py\n",
        "\n",
        " --- modulename: main, funcname: <module>\n",
        "main.py(7): \"\"\"\n",
        "main.py(10): from recurse import recurse\n",
        " --- modulename: recurse, funcname: <module>\n",
        "recurse.py(7): \"\"\"\n",
        "recurse.py(11): def recurse(level):\n",
        "recurse.py(17): def not_called():\n",
        "main.py(13): def main():\n",
        "main.py(18): if __name__ == '__main__':\n",
        "main.py(19):     main()\n",
        " --- modulename: main, funcname: main\n",
        "main.py(14):     print('This is the main program.')\n",
        "This is the main program.\n",
        "main.py(15):     recurse(2)\n",
        " --- modulename: recurse, funcname: recurse\n",
        "recurse.py(12):     print('recurse({})'.format(level))\n",
        "recurse(2)\n",
        "recurse.py(13):     if level:\n",
        "recurse.py(14):         recurse(level - 1)\n",
        " --- modulename: recurse, funcname: recurse\n",
        "recurse.py(12):     print('recurse({})'.format(level))\n",
        "recurse(1)\n",
        "recurse.py(13):     if level:\n",
        "recurse.py(14):         recurse(level - 1)\n",
        " --- modulename: recurse, funcname: recurse\n",
        "recurse.py(12):     print('recurse({})'.format(level))\n",
        "recurse(0)\n",
        "recurse.py(13):     if level:"
      ],
      "execution_count": null,
      "outputs": []
    },
    {
      "cell_type": "markdown",
      "metadata": {
        "id": "f0kQAmz3ufiO"
      },
      "source": [
        "# **Вызов отношений**"
      ]
    },
    {
      "cell_type": "markdown",
      "metadata": {
        "id": "u0vi27_QvVb0"
      },
      "source": [
        "**trace** собирает и сообщает о взаимосвязях между функциями, которые вызывают друг друга.\n",
        "\n",
        "Для простого списка вызываемых функций используйте --listfuncs."
      ]
    },
    {
      "cell_type": "code",
      "metadata": {
        "id": "-Or7GqJWvV8J"
      },
      "source": [
        "$ python3 -m trace --listfuncs trace_example/main.py | \\\n",
        "grep -v importlib\n",
        "\n",
        "This is the main program.\n",
        "recurse(2)\n",
        "recurse(1)\n",
        "recurse(0)\n",
        "\n",
        "functions called:\n",
        "filename: trace_example/main.py, modulename: main, funcname:\n",
        "<module>\n",
        "filename: trace_example/main.py, modulename: main, funcname:\n",
        "main\n",
        "filename: trace_example/recurse.py, modulename: recurse,\n",
        "funcname: <module>\n",
        "filename: trace_example/recurse.py, modulename: recurse,\n",
        "funcname: recurse"
      ],
      "execution_count": null,
      "outputs": []
    },
    {
      "cell_type": "markdown",
      "metadata": {
        "id": "6kjciVFnvcuw"
      },
      "source": [
        "Для получения дополнительных сведений о том, кто звонит, используйте **--trackcalls**."
      ]
    },
    {
      "cell_type": "code",
      "metadata": {
        "id": "PkYUCM-Lvc7B"
      },
      "source": [
        "$ python3 -m trace --listfuncs --trackcalls \\\n",
        "trace_example/main.py | grep -v importlib\n",
        "\n",
        "This is the main program.\n",
        "recurse(2)\n",
        "recurse(1)\n",
        "recurse(0)\n",
        "\n",
        "calling relationships:\n",
        "\n",
        "*** .../lib/python3.7/trace.py ***\n",
        "  --> trace_example/main.py\n",
        "    trace.Trace.runctx -> main.<module>\n",
        "\n",
        "  --> trace_example/recurse.py\n",
        "\n",
        "\n",
        "*** trace_example/main.py ***\n",
        "    main.<module> -> main.main\n",
        "  --> trace_example/recurse.py\n",
        "    main.main -> recurse.recurse\n",
        "\n",
        "*** trace_example/recurse.py ***\n",
        "    recurse.recurse -> recurse.recurse"
      ],
      "execution_count": null,
      "outputs": []
    },
    {
      "cell_type": "markdown",
      "metadata": {
        "id": "5AupVtTWv5r_"
      },
      "source": [
        "# **Интерфейс программирования**"
      ]
    },
    {
      "cell_type": "code",
      "metadata": {
        "id": "_sNKhYJVv8Sn",
        "colab": {
          "base_uri": "https://localhost:8080/"
        },
        "outputId": "c02b7ddf-3b5d-4a68-c8cc-d0e9df4f34cd"
      },
      "source": [
        "#trace_run.py \n",
        "import trace\n",
        "\n",
        "tracer = trace.Trace(count=False, trace=True)\n",
        "tracer.run('recurse(2)')"
      ],
      "execution_count": 69,
      "outputs": [
        {
          "output_type": "stream",
          "text": [
            " --- modulename: iostream, funcname: write\n",
            "iostream.py(383):         if self.echo is not None:\n",
            "iostream.py(391):         if self.pub_thread is None:\n",
            "iostream.py(395):             if not isinstance(string, unicode_type):\n",
            "iostream.py(398):             is_child = (not self._is_master_process())\n",
            " --- modulename: iostream, funcname: _is_master_process\n",
            "iostream.py(308):         return os.getpid() == self._master_pid\n",
            "iostream.py(400):             self.pub_thread.schedule(lambda : self._buffer.write(string))\n",
            " --- modulename: iostream, funcname: schedule\n",
            "iostream.py(200):         if self.thread.is_alive():\n",
            " --- modulename: threading, funcname: is_alive\n",
            "threading.py(1112):         assert self._initialized, \"Thread.__init__() not called\"\n",
            "threading.py(1113):         if self._is_stopped or not self._started.is_set():\n",
            " --- modulename: threading, funcname: is_set\n",
            "threading.py(508):         return self._flag\n",
            "threading.py(1115):         self._wait_for_tstate_lock(False)\n",
            " --- modulename: threading, funcname: _wait_for_tstate_lock\n",
            "threading.py(1069):         lock = self._tstate_lock\n",
            "threading.py(1070):         if lock is None:  # already determined that the C code is done\n",
            "threading.py(1072):         elif lock.acquire(block, timeout):\n",
            "threading.py(1116):         return not self._is_stopped\n",
            "iostream.py(201):             self._events.append(f)\n",
            "recurse(2)iostream.py(203):             self._event_pipe.send(b'')\n",
            " --- modulename: iostream, funcname: _event_pipe\n",
            "iostream.py(96):         try:\n",
            "iostream.py(97):             event_pipe = self._local.event_pipe\n",
            "iostream.py(105):         return event_pipe\n",
            " --- modulename: socket, funcname: send\n",
            "socket.py(481):         if routing_id is not None:\n",
            "socket.py(486):         if group is not None:\n",
            "socket.py(491):         return super(Socket, self).send(data, flags=flags, copy=copy, track=track)\n",
            "iostream.py(401):             if is_child:\n",
            "iostream.py(408):                 self._schedule_flush()\n",
            " --- modulename: iostream, funcname: _schedule_flush\n",
            "iostream.py(325):         if self._flush_pending:\n",
            "iostream.py(326):             return\n",
            " --- modulename: iostream, funcname: write\n",
            "iostream.py(383):         if self.echo is not None:\n",
            "iostream.py(391):         if self.pub_thread is None:\n",
            "iostream.py(395):             if not isinstance(string, unicode_type):\n",
            "iostream.py(398):             is_child = (not self._is_master_process())\n",
            " --- modulename: iostream, funcname: _is_master_process\n",
            "iostream.py(308):         return os.getpid() == self._master_pid\n",
            "iostream.py(400):             self.pub_thread.schedule(lambda : self._buffer.write(string))\n",
            " --- modulename: iostream, funcname: schedule\n",
            "iostream.py(200):         if self.thread.is_alive():\n",
            " --- modulename: threading, funcname: is_alive\n",
            "threading.py(1112):         assert self._initialized, \"Thread.__init__() not called\"\n",
            "threading.py(1113):         if self._is_stopped or not self._started.is_set():\n",
            " --- modulename: threading, funcname: is_set\n",
            "threading.py(508):         return self._flag\n",
            "threading.py(1115):         self._wait_for_tstate_lock(False)\n",
            " --- modulename: threading, funcname: _wait_for_tstate_lock\n",
            "threading.py(1069):         lock = self._tstate_lock\n",
            "threading.py(1070):         if lock is None:  # already determined that the C code is done\n",
            "threading.py(1072):         elif lock.acquire(block, timeout):\n",
            "threading.py(1116):         return not self._is_stopped\n",
            "iostream.py(201):             self._events.append(f)\n",
            "\n",
            "iostream.py(203):             self._event_pipe.send(b'')\n",
            " --- modulename: iostream, funcname: _event_pipe\n",
            "iostream.py(96):         try:\n",
            "iostream.py(97):             event_pipe = self._local.event_pipe\n",
            "iostream.py(105):         return event_pipe\n",
            " --- modulename: socket, funcname: send\n",
            "socket.py(481):         if routing_id is not None:\n",
            "socket.py(486):         if group is not None:\n",
            "socket.py(491):         return super(Socket, self).send(data, flags=flags, copy=copy, track=track)\n",
            "iostream.py(401):             if is_child:\n",
            "iostream.py(408):                 self._schedule_flush()\n",
            " --- modulename: iostream, funcname: _schedule_flush\n",
            "iostream.py(325):         if self._flush_pending:\n",
            "iostream.py(326):             return\n",
            " --- modulename: iostream, funcname: write\n",
            "iostream.py(383):         if self.echo is not None:\n",
            "iostream.py(391):         if self.pub_thread is None:\n",
            "iostream.py(395):             if not isinstance(string, unicode_type):\n",
            "iostream.py(398):             is_child = (not self._is_master_process())\n",
            " --- modulename: iostream, funcname: _is_master_process\n",
            "iostream.py(308):         return os.getpid() == self._master_pid\n",
            "iostream.py(400):             self.pub_thread.schedule(lambda : self._buffer.write(string))\n",
            " --- modulename: iostream, funcname: schedule\n",
            "iostream.py(200):         if self.thread.is_alive():\n",
            " --- modulename: threading, funcname: is_alive\n",
            "threading.py(1112):         assert self._initialized, \"Thread.__init__() not called\"\n",
            "threading.py(1113):         if self._is_stopped or not self._started.is_set():\n",
            " --- modulename: threading, funcname: is_set\n",
            "threading.py(508):         return self._flag\n",
            "threading.py(1115):         self._wait_for_tstate_lock(False)\n",
            " --- modulename: threading, funcname: _wait_for_tstate_lock\n",
            "threading.py(1069):         lock = self._tstate_lock\n",
            "threading.py(1070):         if lock is None:  # already determined that the C code is done\n",
            "threading.py(1072):         elif lock.acquire(block, timeout):\n",
            "threading.py(1116):         return not self._is_stopped\n",
            "iostream.py(201):             self._events.append(f)\n",
            "recurse(1)iostream.py(203):             self._event_pipe.send(b'')\n",
            " --- modulename: iostream, funcname: _event_pipe\n",
            "iostream.py(96):         try:\n",
            "iostream.py(97):             event_pipe = self._local.event_pipe\n",
            "iostream.py(105):         return event_pipe\n",
            " --- modulename: socket, funcname: send\n",
            "socket.py(481):         if routing_id is not None:\n",
            "socket.py(486):         if group is not None:\n",
            "socket.py(491):         return super(Socket, self).send(data, flags=flags, copy=copy, track=track)\n",
            "iostream.py(401):             if is_child:\n",
            "iostream.py(408):                 self._schedule_flush()\n",
            " --- modulename: iostream, funcname: _schedule_flush\n",
            "iostream.py(325):         if self._flush_pending:\n",
            "iostream.py(326):             return\n",
            " --- modulename: iostream, funcname: write\n",
            "iostream.py(383):         if self.echo is not None:\n",
            "iostream.py(391):         if self.pub_thread is None:\n",
            "iostream.py(395):             if not isinstance(string, unicode_type):\n",
            "iostream.py(398):             is_child = (not self._is_master_process())\n",
            " --- modulename: iostream, funcname: _is_master_process\n",
            "iostream.py(308):         return os.getpid() == self._master_pid\n",
            "iostream.py(400):             self.pub_thread.schedule(lambda : self._buffer.write(string))\n",
            " --- modulename: iostream, funcname: schedule\n",
            "iostream.py(200):         if self.thread.is_alive():\n",
            " --- modulename: threading, funcname: is_alive\n",
            "threading.py(1112):         assert self._initialized, \"Thread.__init__() not called\"\n",
            "threading.py(1113):         if self._is_stopped or not self._started.is_set():\n",
            " --- modulename: threading, funcname: is_set\n",
            "threading.py(508):         return self._flag\n",
            "threading.py(1115):         self._wait_for_tstate_lock(False)\n",
            " --- modulename: threading, funcname: _wait_for_tstate_lock\n",
            "threading.py(1069):         lock = self._tstate_lock\n",
            "threading.py(1070):         if lock is None:  # already determined that the C code is done\n",
            "threading.py(1072):         elif lock.acquire(block, timeout):\n",
            "threading.py(1116):         return not self._is_stopped\n",
            "iostream.py(201):             self._events.append(f)\n",
            "\n",
            "iostream.py(203):             self._event_pipe.send(b'')\n",
            " --- modulename: iostream, funcname: _event_pipe\n",
            "iostream.py(96):         try:\n",
            "iostream.py(97):             event_pipe = self._local.event_pipe\n",
            "iostream.py(105):         return event_pipe\n",
            " --- modulename: socket, funcname: send\n",
            "socket.py(481):         if routing_id is not None:\n",
            "socket.py(486):         if group is not None:\n",
            "socket.py(491):         return super(Socket, self).send(data, flags=flags, copy=copy, track=track)\n",
            "iostream.py(401):             if is_child:\n",
            "iostream.py(408):                 self._schedule_flush()\n",
            " --- modulename: iostream, funcname: _schedule_flush\n",
            "iostream.py(325):         if self._flush_pending:\n",
            "iostream.py(326):             return\n",
            " --- modulename: iostream, funcname: write\n",
            "iostream.py(383):         if self.echo is not None:\n",
            "iostream.py(391):         if self.pub_thread is None:\n",
            "iostream.py(395):             if not isinstance(string, unicode_type):\n",
            "iostream.py(398):             is_child = (not self._is_master_process())\n",
            " --- modulename: iostream, funcname: _is_master_process\n",
            "iostream.py(308):         return os.getpid() == self._master_pid\n",
            "iostream.py(400):             self.pub_thread.schedule(lambda : self._buffer.write(string))\n",
            " --- modulename: iostream, funcname: schedule\n",
            "iostream.py(200):         if self.thread.is_alive():\n",
            " --- modulename: threading, funcname: is_alive\n",
            "threading.py(1112):         assert self._initialized, \"Thread.__init__() not called\"\n",
            "threading.py(1113):         if self._is_stopped or not self._started.is_set():\n",
            " --- modulename: threading, funcname: is_set\n",
            "threading.py(508):         return self._flag\n",
            "threading.py(1115):         self._wait_for_tstate_lock(False)\n",
            " --- modulename: threading, funcname: _wait_for_tstate_lock\n",
            "threading.py(1069):         lock = self._tstate_lock\n",
            "threading.py(1070):         if lock is None:  # already determined that the C code is done\n",
            "threading.py(1072):         elif lock.acquire(block, timeout):\n",
            "threading.py(1116):         return not self._is_stopped\n",
            "iostream.py(201):             self._events.append(f)\n",
            "recurse(0)iostream.py(203):             self._event_pipe.send(b'')\n",
            " --- modulename: iostream, funcname: _event_pipe\n",
            "iostream.py(96):         try:\n",
            "iostream.py(97):             event_pipe = self._local.event_pipe\n",
            "iostream.py(105):         return event_pipe\n",
            " --- modulename: socket, funcname: send\n",
            "socket.py(481):         if routing_id is not None:\n",
            "socket.py(486):         if group is not None:\n",
            "socket.py(491):         return super(Socket, self).send(data, flags=flags, copy=copy, track=track)\n",
            "iostream.py(401):             if is_child:\n",
            "iostream.py(408):                 self._schedule_flush()\n",
            " --- modulename: iostream, funcname: _schedule_flush\n",
            "iostream.py(325):         if self._flush_pending:\n",
            "iostream.py(326):             return\n",
            " --- modulename: iostream, funcname: write\n",
            "iostream.py(383):         if self.echo is not None:\n",
            "iostream.py(391):         if self.pub_thread is None:\n",
            "iostream.py(395):             if not isinstance(string, unicode_type):\n",
            "iostream.py(398):             is_child = (not self._is_master_process())\n",
            " --- modulename: iostream, funcname: _is_master_process\n",
            "iostream.py(308):         return os.getpid() == self._master_pid\n",
            "iostream.py(400):             self.pub_thread.schedule(lambda : self._buffer.write(string))\n",
            " --- modulename: iostream, funcname: schedule\n",
            "iostream.py(200):         if self.thread.is_alive():\n",
            " --- modulename: threading, funcname: is_alive\n",
            "threading.py(1112):         assert self._initialized, \"Thread.__init__() not called\"\n",
            "threading.py(1113):         if self._is_stopped or not self._started.is_set():\n",
            " --- modulename: threading, funcname: is_set\n",
            "threading.py(508):         return self._flag\n",
            "threading.py(1115):         self._wait_for_tstate_lock(False)\n",
            " --- modulename: threading, funcname: _wait_for_tstate_lock\n",
            "threading.py(1069):         lock = self._tstate_lock\n",
            "threading.py(1070):         if lock is None:  # already determined that the C code is done\n",
            "threading.py(1072):         elif lock.acquire(block, timeout):\n",
            "threading.py(1116):         return not self._is_stopped\n",
            "iostream.py(201):             self._events.append(f)\n",
            "\n",
            "iostream.py(203):             self._event_pipe.send(b'')\n",
            " --- modulename: iostream, funcname: _event_pipe\n",
            "iostream.py(96):         try:\n",
            "iostream.py(97):             event_pipe = self._local.event_pipe\n",
            "iostream.py(105):         return event_pipe\n",
            " --- modulename: socket, funcname: send\n",
            "socket.py(481):         if routing_id is not None:\n",
            "socket.py(486):         if group is not None:\n",
            "socket.py(491):         return super(Socket, self).send(data, flags=flags, copy=copy, track=track)\n",
            "iostream.py(401):             if is_child:\n",
            "iostream.py(408):                 self._schedule_flush()\n",
            " --- modulename: iostream, funcname: _schedule_flush\n",
            "iostream.py(325):         if self._flush_pending:\n",
            "iostream.py(326):             return\n",
            " --- modulename: trace, funcname: _unsettrace\n",
            "trace.py(77):         sys.settrace(None)\n"
          ],
          "name": "stdout"
        }
      ]
    },
    {
      "cell_type": "code",
      "metadata": {
        "id": "xsmCxD7DxTz0",
        "colab": {
          "base_uri": "https://localhost:8080/"
        },
        "outputId": "1de5c9a3-7800-403c-b8fb-99f6ca5ee28b"
      },
      "source": [
        "#trace_runfunc.py \n",
        "import trace\n",
        "\n",
        "tracer = trace.Trace(count=False, trace=True)\n",
        "tracer.runfunc(recurse, 2)"
      ],
      "execution_count": 70,
      "outputs": [
        {
          "output_type": "stream",
          "text": [
            " --- modulename: iostream, funcname: write\n",
            "iostream.py(383):         if self.echo is not None:\n",
            "iostream.py(391):         if self.pub_thread is None:\n",
            "iostream.py(395):             if not isinstance(string, unicode_type):\n",
            "iostream.py(398):             is_child = (not self._is_master_process())\n",
            " --- modulename: iostream, funcname: _is_master_process\n",
            "iostream.py(308):         return os.getpid() == self._master_pid\n",
            "iostream.py(400):             self.pub_thread.schedule(lambda : self._buffer.write(string))\n",
            " --- modulename: iostream, funcname: schedule\n",
            "iostream.py(200):         if self.thread.is_alive():\n",
            " --- modulename: threading, funcname: is_alive\n",
            "threading.py(1112):         assert self._initialized, \"Thread.__init__() not called\"\n",
            "threading.py(1113):         if self._is_stopped or not self._started.is_set():\n",
            " --- modulename: threading, funcname: is_set\n",
            "threading.py(508):         return self._flag\n",
            "threading.py(1115):         self._wait_for_tstate_lock(False)\n",
            " --- modulename: threading, funcname: _wait_for_tstate_lock\n",
            "threading.py(1069):         lock = self._tstate_lock\n",
            "threading.py(1070):         if lock is None:  # already determined that the C code is done\n",
            "threading.py(1072):         elif lock.acquire(block, timeout):\n",
            "threading.py(1116):         return not self._is_stopped\n",
            "iostream.py(201):             self._events.append(f)\n",
            "recurse(2)iostream.py(203):             self._event_pipe.send(b'')\n",
            " --- modulename: iostream, funcname: _event_pipe\n",
            "iostream.py(96):         try:\n",
            "iostream.py(97):             event_pipe = self._local.event_pipe\n",
            "iostream.py(105):         return event_pipe\n",
            " --- modulename: socket, funcname: send\n",
            "socket.py(481):         if routing_id is not None:\n",
            "socket.py(486):         if group is not None:\n",
            "socket.py(491):         return super(Socket, self).send(data, flags=flags, copy=copy, track=track)\n",
            "iostream.py(401):             if is_child:\n",
            "iostream.py(408):                 self._schedule_flush()\n",
            " --- modulename: iostream, funcname: _schedule_flush\n",
            "iostream.py(325):         if self._flush_pending:\n",
            "iostream.py(326):             return\n",
            " --- modulename: iostream, funcname: write\n",
            "iostream.py(383):         if self.echo is not None:\n",
            "iostream.py(391):         if self.pub_thread is None:\n",
            "iostream.py(395):             if not isinstance(string, unicode_type):\n",
            "iostream.py(398):             is_child = (not self._is_master_process())\n",
            " --- modulename: iostream, funcname: _is_master_process\n",
            "iostream.py(308):         return os.getpid() == self._master_pid\n",
            "iostream.py(400):             self.pub_thread.schedule(lambda : self._buffer.write(string))\n",
            " --- modulename: iostream, funcname: schedule\n",
            "iostream.py(200):         if self.thread.is_alive():\n",
            " --- modulename: threading, funcname: is_alive\n",
            "threading.py(1112):         assert self._initialized, \"Thread.__init__() not called\"\n",
            "threading.py(1113):         if self._is_stopped or not self._started.is_set():\n",
            " --- modulename: threading, funcname: is_set\n",
            "threading.py(508):         return self._flag\n",
            "threading.py(1115):         self._wait_for_tstate_lock(False)\n",
            " --- modulename: threading, funcname: _wait_for_tstate_lock\n",
            "threading.py(1069):         lock = self._tstate_lock\n",
            "threading.py(1070):         if lock is None:  # already determined that the C code is done\n",
            "threading.py(1072):         elif lock.acquire(block, timeout):\n",
            "threading.py(1116):         return not self._is_stopped\n",
            "iostream.py(201):             self._events.append(f)\n",
            "\n",
            "iostream.py(203):             self._event_pipe.send(b'')\n",
            " --- modulename: iostream, funcname: _event_pipe\n",
            "iostream.py(96):         try:\n",
            "iostream.py(97):             event_pipe = self._local.event_pipe\n",
            "iostream.py(105):         return event_pipe\n",
            " --- modulename: socket, funcname: send\n",
            "socket.py(481):         if routing_id is not None:\n",
            "socket.py(486):         if group is not None:\n",
            "socket.py(491):         return super(Socket, self).send(data, flags=flags, copy=copy, track=track)\n",
            "iostream.py(401):             if is_child:\n",
            "iostream.py(408):                 self._schedule_flush()\n",
            " --- modulename: iostream, funcname: _schedule_flush\n",
            "iostream.py(325):         if self._flush_pending:\n",
            "iostream.py(326):             return\n",
            " --- modulename: iostream, funcname: write\n",
            "iostream.py(383):         if self.echo is not None:\n",
            "iostream.py(391):         if self.pub_thread is None:\n",
            "iostream.py(395):             if not isinstance(string, unicode_type):\n",
            "iostream.py(398):             is_child = (not self._is_master_process())\n",
            " --- modulename: iostream, funcname: _is_master_process\n",
            "iostream.py(308):         return os.getpid() == self._master_pid\n",
            "iostream.py(400):             self.pub_thread.schedule(lambda : self._buffer.write(string))\n",
            " --- modulename: iostream, funcname: schedule\n",
            "iostream.py(200):         if self.thread.is_alive():\n",
            " --- modulename: threading, funcname: is_alive\n",
            "threading.py(1112):         assert self._initialized, \"Thread.__init__() not called\"\n",
            "threading.py(1113):         if self._is_stopped or not self._started.is_set():\n",
            " --- modulename: threading, funcname: is_set\n",
            "threading.py(508):         return self._flag\n",
            "threading.py(1115):         self._wait_for_tstate_lock(False)\n",
            " --- modulename: threading, funcname: _wait_for_tstate_lock\n",
            "threading.py(1069):         lock = self._tstate_lock\n",
            "threading.py(1070):         if lock is None:  # already determined that the C code is done\n",
            "threading.py(1072):         elif lock.acquire(block, timeout):\n",
            "threading.py(1116):         return not self._is_stopped\n",
            "iostream.py(201):             self._events.append(f)\n",
            "recurse(1)iostream.py(203):             self._event_pipe.send(b'')\n",
            " --- modulename: iostream, funcname: _event_pipe\n",
            "iostream.py(96):         try:\n",
            "iostream.py(97):             event_pipe = self._local.event_pipe\n",
            "iostream.py(105):         return event_pipe\n",
            " --- modulename: socket, funcname: send\n",
            "socket.py(481):         if routing_id is not None:\n",
            "socket.py(486):         if group is not None:\n",
            "socket.py(491):         return super(Socket, self).send(data, flags=flags, copy=copy, track=track)\n",
            "iostream.py(401):             if is_child:\n",
            "iostream.py(408):                 self._schedule_flush()\n",
            " --- modulename: iostream, funcname: _schedule_flush\n",
            "iostream.py(325):         if self._flush_pending:\n",
            "iostream.py(326):             return\n",
            " --- modulename: iostream, funcname: write\n",
            "iostream.py(383):         if self.echo is not None:\n",
            "iostream.py(391):         if self.pub_thread is None:\n",
            "iostream.py(395):             if not isinstance(string, unicode_type):\n",
            "iostream.py(398):             is_child = (not self._is_master_process())\n",
            " --- modulename: iostream, funcname: _is_master_process\n",
            "iostream.py(308):         return os.getpid() == self._master_pid\n",
            "iostream.py(400):             self.pub_thread.schedule(lambda : self._buffer.write(string))\n",
            " --- modulename: iostream, funcname: schedule\n",
            "iostream.py(200):         if self.thread.is_alive():\n",
            " --- modulename: threading, funcname: is_alive\n",
            "threading.py(1112):         assert self._initialized, \"Thread.__init__() not called\"\n",
            "threading.py(1113):         if self._is_stopped or not self._started.is_set():\n",
            " --- modulename: threading, funcname: is_set\n",
            "threading.py(508):         return self._flag\n",
            "threading.py(1115):         self._wait_for_tstate_lock(False)\n",
            " --- modulename: threading, funcname: _wait_for_tstate_lock\n",
            "threading.py(1069):         lock = self._tstate_lock\n",
            "threading.py(1070):         if lock is None:  # already determined that the C code is done\n",
            "threading.py(1072):         elif lock.acquire(block, timeout):\n",
            "threading.py(1116):         return not self._is_stopped\n",
            "iostream.py(201):             self._events.append(f)\n",
            "\n",
            "iostream.py(203):             self._event_pipe.send(b'')\n",
            " --- modulename: iostream, funcname: _event_pipe\n",
            "iostream.py(96):         try:\n",
            "iostream.py(97):             event_pipe = self._local.event_pipe\n",
            "iostream.py(105):         return event_pipe\n",
            " --- modulename: socket, funcname: send\n",
            "socket.py(481):         if routing_id is not None:\n",
            "socket.py(486):         if group is not None:\n",
            "socket.py(491):         return super(Socket, self).send(data, flags=flags, copy=copy, track=track)\n",
            "iostream.py(401):             if is_child:\n",
            "iostream.py(408):                 self._schedule_flush()\n",
            " --- modulename: iostream, funcname: _schedule_flush\n",
            "iostream.py(325):         if self._flush_pending:\n",
            "iostream.py(326):             return\n",
            " --- modulename: iostream, funcname: write\n",
            "iostream.py(383):         if self.echo is not None:\n",
            "iostream.py(391):         if self.pub_thread is None:\n",
            "iostream.py(395):             if not isinstance(string, unicode_type):\n",
            "iostream.py(398):             is_child = (not self._is_master_process())\n",
            " --- modulename: iostream, funcname: _is_master_process\n",
            "iostream.py(308):         return os.getpid() == self._master_pid\n",
            "iostream.py(400):             self.pub_thread.schedule(lambda : self._buffer.write(string))\n",
            " --- modulename: iostream, funcname: schedule\n",
            "iostream.py(200):         if self.thread.is_alive():\n",
            " --- modulename: threading, funcname: is_alive\n",
            "threading.py(1112):         assert self._initialized, \"Thread.__init__() not called\"\n",
            "threading.py(1113):         if self._is_stopped or not self._started.is_set():\n",
            " --- modulename: threading, funcname: is_set\n",
            "threading.py(508):         return self._flag\n",
            "threading.py(1115):         self._wait_for_tstate_lock(False)\n",
            " --- modulename: threading, funcname: _wait_for_tstate_lock\n",
            "threading.py(1069):         lock = self._tstate_lock\n",
            "threading.py(1070):         if lock is None:  # already determined that the C code is done\n",
            "threading.py(1072):         elif lock.acquire(block, timeout):\n",
            "threading.py(1116):         return not self._is_stopped\n",
            "iostream.py(201):             self._events.append(f)\n",
            "recurse(0)iostream.py(203):             self._event_pipe.send(b'')\n",
            " --- modulename: iostream, funcname: _event_pipe\n",
            "iostream.py(96):         try:\n",
            "iostream.py(97):             event_pipe = self._local.event_pipe\n",
            "iostream.py(105):         return event_pipe\n",
            " --- modulename: socket, funcname: send\n",
            "socket.py(481):         if routing_id is not None:\n",
            "socket.py(486):         if group is not None:\n",
            "socket.py(491):         return super(Socket, self).send(data, flags=flags, copy=copy, track=track)\n",
            "iostream.py(401):             if is_child:\n",
            "iostream.py(408):                 self._schedule_flush()\n",
            " --- modulename: iostream, funcname: _schedule_flush\n",
            "iostream.py(325):         if self._flush_pending:\n",
            "iostream.py(326):             return\n",
            " --- modulename: iostream, funcname: write\n",
            "iostream.py(383):         if self.echo is not None:\n",
            "iostream.py(391):         if self.pub_thread is None:\n",
            "iostream.py(395):             if not isinstance(string, unicode_type):\n",
            "iostream.py(398):             is_child = (not self._is_master_process())\n",
            " --- modulename: iostream, funcname: _is_master_process\n",
            "iostream.py(308):         return os.getpid() == self._master_pid\n",
            "iostream.py(400):             self.pub_thread.schedule(lambda : self._buffer.write(string))\n",
            " --- modulename: iostream, funcname: schedule\n",
            "iostream.py(200):         if self.thread.is_alive():\n",
            " --- modulename: threading, funcname: is_alive\n",
            "threading.py(1112):         assert self._initialized, \"Thread.__init__() not called\"\n",
            "threading.py(1113):         if self._is_stopped or not self._started.is_set():\n",
            " --- modulename: threading, funcname: is_set\n",
            "threading.py(508):         return self._flag\n",
            "threading.py(1115):         self._wait_for_tstate_lock(False)\n",
            " --- modulename: threading, funcname: _wait_for_tstate_lock\n",
            "threading.py(1069):         lock = self._tstate_lock\n",
            "threading.py(1070):         if lock is None:  # already determined that the C code is done\n",
            "threading.py(1072):         elif lock.acquire(block, timeout):\n",
            "threading.py(1116):         return not self._is_stopped\n",
            "iostream.py(201):             self._events.append(f)\n",
            "\n",
            "iostream.py(203):             self._event_pipe.send(b'')\n",
            " --- modulename: iostream, funcname: _event_pipe\n",
            "iostream.py(96):         try:\n",
            "iostream.py(97):             event_pipe = self._local.event_pipe\n",
            "iostream.py(105):         return event_pipe\n",
            " --- modulename: socket, funcname: send\n",
            "socket.py(481):         if routing_id is not None:\n",
            "socket.py(486):         if group is not None:\n",
            "socket.py(491):         return super(Socket, self).send(data, flags=flags, copy=copy, track=track)\n",
            "iostream.py(401):             if is_child:\n",
            "iostream.py(408):                 self._schedule_flush()\n",
            " --- modulename: iostream, funcname: _schedule_flush\n",
            "iostream.py(325):         if self._flush_pending:\n",
            "iostream.py(326):             return\n"
          ],
          "name": "stdout"
        }
      ]
    },
    {
      "cell_type": "markdown",
      "metadata": {
        "id": "G2HhB4wsxg85"
      },
      "source": [
        "# **Сохранение данных результатов**"
      ]
    },
    {
      "cell_type": "markdown",
      "metadata": {
        "id": "gw0bpqaIx9qJ"
      },
      "source": [
        "Данные\n",
        "можно сохранить явным образом, используя экземпляр CoverageResults из объекта Trace.\n"
      ]
    },
    {
      "cell_type": "code",
      "metadata": {
        "id": "8fl4ORx-xj87",
        "colab": {
          "base_uri": "https://localhost:8080/"
        },
        "outputId": "e19be523-35db-4f1e-e931-2d2b3a530c2e"
      },
      "source": [
        "#trace_CoverageResults.py \n",
        "import trace\n",
        "\n",
        "tracer = trace.Trace(count=True, trace=False)\n",
        "tracer.runfunc(recurse, 2)\n",
        "\n",
        "results = tracer.results()\n",
        "results.write_results(coverdir='coverdir2')"
      ],
      "execution_count": 71,
      "outputs": [
        {
          "output_type": "stream",
          "text": [
            "recurse(2)\n",
            "recurse(1)\n",
            "recurse(0)\n"
          ],
          "name": "stdout"
        }
      ]
    },
    {
      "cell_type": "markdown",
      "metadata": {
        "id": "DDw4SwQHyKZb"
      },
      "source": [
        "Этот пример сохраняет результаты покрытия в каталог coverdir2."
      ]
    },
    {
      "cell_type": "markdown",
      "metadata": {
        "id": "pBnH1Z0TzIP6"
      },
      "source": [
        "Чтобы сохранить данные о количестве вызовов функций для генерации отчетов, следует использовать аргументы infile и outfile при вызове конструктора\n",
        "Trace"
      ]
    },
    {
      "cell_type": "code",
      "metadata": {
        "id": "J7QymY9iyVhy",
        "colab": {
          "base_uri": "https://localhost:8080/"
        },
        "outputId": "4c807e5d-6869-4201-cc9f-912b08b084ed"
      },
      "source": [
        "#trace_report.py \n",
        "import trace\n",
        "\n",
        "tracer = trace.Trace(count=True,\n",
        "                     trace=False,\n",
        "                     outfile='trace_report.dat')\n",
        "tracer.runfunc(recurse, 2)\n",
        "\n",
        "report_tracer = trace.Trace(count=False,\n",
        "                            trace=False,\n",
        "                            infile='trace_report.dat')\n",
        "results = tracer.results()\n",
        "results.write_results(summary=True, coverdir='/tmp')"
      ],
      "execution_count": 72,
      "outputs": [
        {
          "output_type": "stream",
          "text": [
            "recurse(2)\n",
            "recurse(1)\n",
            "recurse(0)\n",
            "lines   cov%   module   (path)\n",
            "  252     7%   ipykernel.iostream   (/usr/local/lib/python3.6/dist-packages/ipykernel/iostream.py)\n",
            "  596     1%   threading   (/usr/lib/python3.6/threading.py)\n",
            "  252     1%   zmq.sugar.socket   (/usr/local/lib/python3.6/dist-packages/zmq/sugar/socket.py)\n"
          ],
          "name": "stdout"
        }
      ]
    },
    {
      "cell_type": "markdown",
      "metadata": {
        "id": "M9e1W43AzUnU"
      },
      "source": [
        "Имя входного файла, из которого необходимо прочитать ранее сохраненные\n",
        "данные, задается c помощью аргумента infile, а имя выходного файла, в который необходимо записать новые результаты после выполнения трассировки, —\n",
        "c помощью аргумента outfile. В случае совпадения имен входного и выходного\n",
        "файлов предыдущий код обновляет файл кумулятивными данными."
      ]
    },
    {
      "cell_type": "markdown",
      "metadata": {
        "id": "UvgdHOpnzm-A"
      },
      "source": [
        "# **Опции**"
      ]
    },
    {
      "cell_type": "markdown",
      "metadata": {
        "id": "_5UqLHouzpjw"
      },
      "source": [
        "\n",
        "*   count — булево значение. Включает подсчет количества вызовов каждой\n",
        "инструкции. По умолчанию принимает значение True.\n",
        "\n",
        "*  countfuncs — булево значение. Включает вывод списка функций, вызываемых в процессе выполнения. По умолчанию принимает значение False.\n",
        "\n",
        "*   countcallers — булево значение. Включает отслеживание вызывающих\n",
        "и вызываемых объектов. По умолчанию принимает значение True.\n",
        "\n",
        "*   ignoremods — последовательность. Список модулей или пакетов, которые\n",
        "будут игнорироваться при отслеживании покрытия кода. Значением по\n",
        "умолчанию является пустой кортеж.\n",
        "\n",
        "*   ignoredirs — последовательность. Список каталогов, содержащих модули\n",
        "или пакеты, которые следует игнорировать. По умолчанию — пустой кортеж.\n",
        "\n",
        "*   infile — имя файла, содержащего кешированные значения счетчиков. По\n",
        "умолчанию принимает значение None.\n",
        "\n",
        "*   infile — имя файла, содержащего кешированные значения счетчиков. По\n",
        "умолчанию принимает значение None.\n",
        "\n",
        "\n",
        "\n",
        "\n",
        "\n",
        "\n",
        "\n"
      ]
    }
  ]
}