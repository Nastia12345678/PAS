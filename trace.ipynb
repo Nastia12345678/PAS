{
  "nbformat": 4,
  "nbformat_minor": 0,
  "metadata": {
    "colab": {
      "name": "Untitled1.ipynb",
      "provenance": [],
      "collapsed_sections": [],
      "authorship_tag": "ABX9TyObRcQHMqcibq+ZHEf/HABO",
      "include_colab_link": true
    },
    "kernelspec": {
      "name": "python3",
      "display_name": "Python 3"
    }
  },
  "cells": [
    {
      "cell_type": "markdown",
      "metadata": {
        "id": "view-in-github",
        "colab_type": "text"
      },
      "source": [
        "<a href=\"https://colab.research.google.com/github/Nastia12345678/PAS/blob/main/trace.ipynb\" target=\"_parent\"><img src=\"https://colab.research.google.com/assets/colab-badge.svg\" alt=\"Open In Colab\"/></a>"
      ]
    },
    {
      "cell_type": "markdown",
      "metadata": {
        "id": "O1GQy5BwhqGI"
      },
      "source": [
        "# **trace**: трассировка выполнения программы"
      ]
    },
    {
      "cell_type": "markdown",
      "metadata": {
        "id": "rJfhn8CIh11X"
      },
      "source": [
        "Модуль **trace** позволяет наблюдать за выполнением инструкций, создавать отчеты\n",
        "о покрытии кода и исследовать отношения между функциями, вызывающими\n",
        "одна другую."
      ]
    },
    {
      "cell_type": "markdown",
      "metadata": {
        "id": "3bd15tMXiaDG"
      },
      "source": [
        "# Пример программы "
      ]
    },
    {
      "cell_type": "code",
      "metadata": {
        "id": "43waioxWbQ07"
      },
      "source": [
        "#trace_example / main.py \n",
        "def main():\n",
        "    print('This is the main program.')\n",
        "    recurse(2)\n",
        "\n",
        "if __name__ == '__main__':\n",
        "    main()"
      ],
      "execution_count": null,
      "outputs": []
    },
    {
      "cell_type": "code",
      "metadata": {
        "id": "3dOjI0FxfAVA"
      },
      "source": [
        "#trace_example / recurse.py \n",
        "def recurse(level):\n",
        "    print('recurse({})'.format(level))\n",
        "    if level:\n",
        "        recurse(level - 1)\n",
        "\n",
        "\n",
        "def not_called():\n",
        "    print('This function is never called.')\n"
      ],
      "execution_count": 64,
      "outputs": []
    },
    {
      "cell_type": "markdown",
      "metadata": {
        "id": "ZAPezsiplx9V"
      },
      "source": [
        "# Отслеживание выполнения \n"
      ]
    },
    {
      "cell_type": "code",
      "metadata": {
        "id": "8Hg38WZ6p-Eh"
      },
      "source": [
        "$ python3 -m trace --ignore-dir=.../lib/python3.7 \\\n",
        "--trace trace_example/main.py\n",
        "\n",
        " --- modulename: main, funcname: <module>\n",
        "main.py(7): \"\"\"\n",
        "main.py(10): from recurse import recurse\n",
        " --- modulename: recurse, funcname: <module>\n",
        "recurse.py(7): \"\"\"\n",
        "recurse.py(11): def recurse(level):\n",
        "recurse.py(17): def not_called():\n",
        "main.py(13): def main():\n",
        "main.py(18): if __name__ == '__main__':\n",
        "main.py(19):     main()\n",
        " --- modulename: main, funcname: main\n",
        "main.py(14):     print('This is the main program.')\n",
        "This is the main program.\n",
        "main.py(15):     recurse(2)\n",
        " --- modulename: recurse, funcname: recurse\n",
        "recurse.py(12):     print('recurse({})'.format(level))\n",
        "recurse(2)\n",
        "recurse.py(13):     if level:\n",
        "recurse.py(14):         recurse(level - 1)\n",
        " --- modulename: recurse, funcname: recurse\n",
        "recurse.py(12):     print('recurse({})'.format(level))\n",
        "recurse(1)\n",
        "recurse.py(13):     if level:\n",
        "recurse.py(14):         recurse(level - 1)\n",
        " --- modulename: recurse, funcname: recurse\n",
        "recurse.py(12):     print('recurse({})'.format(level))\n",
        "recurse(0)\n",
        "recurse.py(13):     if level:"
      ],
      "execution_count": null,
      "outputs": []
    },
    {
      "cell_type": "markdown",
      "metadata": {
        "id": "f0kQAmz3ufiO"
      },
      "source": [
        "# **Вызов отношений**"
      ]
    },
    {
      "cell_type": "markdown",
      "metadata": {
        "id": "u0vi27_QvVb0"
      },
      "source": [
        "**trace** собирает и сообщает о взаимосвязях между функциями, которые вызывают друг друга.\n",
        "\n",
        "Для простого списка вызываемых функций используйте --listfuncs."
      ]
    },
    {
      "cell_type": "code",
      "metadata": {
        "id": "-Or7GqJWvV8J"
      },
      "source": [
        "$ python3 -m trace --listfuncs trace_example/main.py | \\\n",
        "grep -v importlib\n",
        "\n",
        "This is the main program.\n",
        "recurse(2)\n",
        "recurse(1)\n",
        "recurse(0)\n",
        "\n",
        "functions called:\n",
        "filename: trace_example/main.py, modulename: main, funcname:\n",
        "<module>\n",
        "filename: trace_example/main.py, modulename: main, funcname:\n",
        "main\n",
        "filename: trace_example/recurse.py, modulename: recurse,\n",
        "funcname: <module>\n",
        "filename: trace_example/recurse.py, modulename: recurse,\n",
        "funcname: recurse"
      ],
      "execution_count": null,
      "outputs": []
    },
    {
      "cell_type": "markdown",
      "metadata": {
        "id": "6kjciVFnvcuw"
      },
      "source": [
        "Для получения дополнительных сведений о том, кто звонит, используйте **--trackcalls**."
      ]
    },
    {
      "cell_type": "code",
      "metadata": {
        "id": "PkYUCM-Lvc7B"
      },
      "source": [
        "$ python3 -m trace --listfuncs --trackcalls \\\n",
        "trace_example/main.py | grep -v importlib\n",
        "\n",
        "This is the main program.\n",
        "recurse(2)\n",
        "recurse(1)\n",
        "recurse(0)\n",
        "\n",
        "calling relationships:\n",
        "\n",
        "*** .../lib/python3.7/trace.py ***\n",
        "  --> trace_example/main.py\n",
        "    trace.Trace.runctx -> main.<module>\n",
        "\n",
        "  --> trace_example/recurse.py\n",
        "\n",
        "\n",
        "*** trace_example/main.py ***\n",
        "    main.<module> -> main.main\n",
        "  --> trace_example/recurse.py\n",
        "    main.main -> recurse.recurse\n",
        "\n",
        "*** trace_example/recurse.py ***\n",
        "    recurse.recurse -> recurse.recurse"
      ],
      "execution_count": null,
      "outputs": []
    },
    {
      "cell_type": "markdown",
      "metadata": {
        "id": "5AupVtTWv5r_"
      },
      "source": [
        "# **Интерфейс программирования**"
      ]
    },
    {
      "cell_type": "code",
      "metadata": {
        "id": "_sNKhYJVv8Sn"
      },
      "source": [
        "#trace_run.py \n",
        "import trace\n",
        "\n",
        "tracer = trace.Trace(count=False, trace=True)\n",
        "tracer.run('recurse(2)')"
      ],
      "execution_count": null,
      "outputs": []
    },
    {
      "cell_type": "code",
      "metadata": {
        "id": "xsmCxD7DxTz0"
      },
      "source": [
        "#trace_runfunc.py \n",
        "import trace\n",
        "\n",
        "tracer = trace.Trace(count=False, trace=True)\n",
        "tracer.runfunc(recurse, 2)"
      ],
      "execution_count": null,
      "outputs": []
    },
    {
      "cell_type": "markdown",
      "metadata": {
        "id": "G2HhB4wsxg85"
      },
      "source": [
        "# **Сохранение данных результатов**"
      ]
    },
    {
      "cell_type": "markdown",
      "metadata": {
        "id": "gw0bpqaIx9qJ"
      },
      "source": [
        "Данные\n",
        "можно сохранить явным образом, используя экземпляр CoverageResults из объекта Trace.\n"
      ]
    },
    {
      "cell_type": "code",
      "metadata": {
        "id": "8fl4ORx-xj87"
      },
      "source": [
        "#trace_CoverageResults.py \n",
        "import trace\n",
        "\n",
        "tracer = trace.Trace(count=True, trace=False)\n",
        "tracer.runfunc(recurse, 2)\n",
        "\n",
        "results = tracer.results()\n",
        "results.write_results(coverdir='coverdir2')"
      ],
      "execution_count": null,
      "outputs": []
    },
    {
      "cell_type": "markdown",
      "metadata": {
        "id": "DDw4SwQHyKZb"
      },
      "source": [
        "Этот пример сохраняет результаты покрытия в каталог coverdir2."
      ]
    },
    {
      "cell_type": "markdown",
      "metadata": {
        "id": "pBnH1Z0TzIP6"
      },
      "source": [
        "Чтобы сохранить данные о количестве вызовов функций для генерации отчетов, следует использовать аргументы infile и outfile при вызове конструктора\n",
        "Trace"
      ]
    },
    {
      "cell_type": "code",
      "metadata": {
        "id": "J7QymY9iyVhy"
      },
      "source": [
        "#trace_report.py \n",
        "import trace\n",
        "\n",
        "tracer = trace.Trace(count=True,\n",
        "                     trace=False,\n",
        "                     outfile='trace_report.dat')\n",
        "tracer.runfunc(recurse, 2)\n",
        "\n",
        "report_tracer = trace.Trace(count=False,\n",
        "                            trace=False,\n",
        "                            infile='trace_report.dat')\n",
        "results = tracer.results()\n",
        "results.write_results(summary=True, coverdir='/tmp')"
      ],
      "execution_count": null,
      "outputs": []
    },
    {
      "cell_type": "markdown",
      "metadata": {
        "id": "M9e1W43AzUnU"
      },
      "source": [
        "Имя входного файла, из которого необходимо прочитать ранее сохраненные\n",
        "данные, задается c помощью аргумента infile, а имя выходного файла, в который необходимо записать новые результаты после выполнения трассировки, —\n",
        "c помощью аргумента outfile. В случае совпадения имен входного и выходного\n",
        "файлов предыдущий код обновляет файл кумулятивными данными."
      ]
    },
    {
      "cell_type": "markdown",
      "metadata": {
        "id": "UvgdHOpnzm-A"
      },
      "source": [
        "# **Опции**"
      ]
    },
    {
      "cell_type": "markdown",
      "metadata": {
        "id": "_5UqLHouzpjw"
      },
      "source": [
        "\n",
        "*   count — булево значение. Включает подсчет количества вызовов каждой\n",
        "инструкции. По умолчанию принимает значение True.\n",
        "\n",
        "*  countfuncs — булево значение. Включает вывод списка функций, вызываемых в процессе выполнения. По умолчанию принимает значение False.\n",
        "\n",
        "*   countcallers — булево значение. Включает отслеживание вызывающих\n",
        "и вызываемых объектов. По умолчанию принимает значение True.\n",
        "\n",
        "*   ignoremods — последовательность. Список модулей или пакетов, которые\n",
        "будут игнорироваться при отслеживании покрытия кода. Значением по\n",
        "умолчанию является пустой кортеж.\n",
        "\n",
        "*   ignoredirs — последовательность. Список каталогов, содержащих модули\n",
        "или пакеты, которые следует игнорировать. По умолчанию — пустой кортеж.\n",
        "\n",
        "*   infile — имя файла, содержащего кешированные значения счетчиков. По\n",
        "умолчанию принимает значение None.\n",
        "\n",
        "*   infile — имя файла, содержащего кешированные значения счетчиков. По\n",
        "умолчанию принимает значение None.\n",
        "\n",
        "\n",
        "\n",
        "\n",
        "\n",
        "\n",
        "\n"
      ]
    }
  ]
}