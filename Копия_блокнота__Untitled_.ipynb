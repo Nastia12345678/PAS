{
  "nbformat": 4,
  "nbformat_minor": 0,
  "metadata": {
    "colab": {
      "name": "Копия блокнота \"Untitled\"",
      "provenance": []
    },
    "kernelspec": {
      "name": "python3",
      "display_name": "Python 3"
    }
  },
  "cells": [
    {
      "cell_type": "markdown",
      "metadata": {
        "id": "16yxy3lhoyHO"
      },
      "source": [
        "# **pprint**: \"красивая печать\" структур данных"
      ]
    },
    {
      "cell_type": "markdown",
      "metadata": {
        "id": "QmOeQbc8o9tP"
      },
      "source": [
        "Модуль **pprint** содержит средства “красивой печати”, обеспечивающие привлекательный внешний вид выводимого представления структур данных."
      ]
    },
    {
      "cell_type": "code",
      "metadata": {
        "id": "o5bXDKXfQZcx"
      },
      "source": [
        "data = [\n",
        "    (1, {'a': 'A', 'b': 'B', 'c': 'C', 'd': 'D'}),\n",
        "    (2, {'e': 'E', 'f': 'F', 'g': 'G', 'h': 'H',\n",
        "         'i': 'I', 'j': 'J', 'k': 'K', 'l': 'L'}),\n",
        "    (3, ['m', 'n']),\n",
        "    (4, ['o', 'p', 'q']),\n",
        "    (5, ['r', 's', 't''u', 'v', 'x', 'y', 'z']),\n",
        "]\n",
        "\n"
      ],
      "execution_count": null,
      "outputs": []
    },
    {
      "cell_type": "markdown",
      "metadata": {
        "id": "0gcbdInJoyio"
      },
      "source": [
        "***Вывод на консоль***\n",
        "\n",
        "Функция **pprint ()** форматирует объект и записывает его в поток данных, переданный ей в качестве аргумента"
      ]
    },
    {
      "cell_type": "code",
      "metadata": {
        "id": "5o4nSdfrQkT6",
        "outputId": "354573a9-5094-4e06-e988-8ca02c727374",
        "colab": {
          "base_uri": "https://localhost:8080/"
        }
      },
      "source": [
        "from pprint import pprint\n",
        "\n",
        "print('PRINT:')\n",
        "print(data)\n",
        "print()\n",
        "print('PPRINT:')\n",
        "pprint(data)"
      ],
      "execution_count": null,
      "outputs": [
        {
          "output_type": "stream",
          "text": [
            "PRINT:\n",
            "[(1, {'a': 'A', 'b': 'B', 'c': 'C', 'd': 'D'}), (2, {'e': 'E', 'f': 'F', 'g': 'G', 'h': 'H', 'i': 'I', 'j': 'J', 'k': 'K', 'l': 'L'}), (3, ['m', 'n']), (4, ['o', 'p', 'q']), (5, ['r', 's', 'tu', 'v', 'x', 'y', 'z'])]\n",
            "\n",
            "PPRINT:\n",
            "[(1, {'a': 'A', 'b': 'B', 'c': 'C', 'd': 'D'}),\n",
            " (2,\n",
            "  {'e': 'E',\n",
            "   'f': 'F',\n",
            "   'g': 'G',\n",
            "   'h': 'H',\n",
            "   'i': 'I',\n",
            "   'j': 'J',\n",
            "   'k': 'K',\n",
            "   'l': 'L'}),\n",
            " (3, ['m', 'n']),\n",
            " (4, ['o', 'p', 'q']),\n",
            " (5, ['r', 's', 'tu', 'v', 'x', 'y', 'z'])]\n"
          ],
          "name": "stdout"
        }
      ]
    },
    {
      "cell_type": "markdown",
      "metadata": {
        "id": "PGiEX-ZSo0GH"
      },
      "source": [
        "***Форматирование***\n",
        "\n",
        "Для форматирования структуры данных c целью создания ее строкового пред-\n",
        "ставления без непосредственной записи в поток используйте функцию **pformat ()**."
      ]
    },
    {
      "cell_type": "code",
      "metadata": {
        "id": "SgjP6oHMQviW",
        "outputId": "aedff7c9-1f2d-495e-cfdb-fc7af502fe20",
        "colab": {
          "base_uri": "https://localhost:8080/"
        }
      },
      "source": [
        "import logging\n",
        "from pprint import pformat\n",
        "\n",
        "\n",
        "logging.basicConfig(\n",
        "    level=logging.DEBUG,\n",
        "    format='%(levelname)-8s %(message)s',\n",
        ")\n",
        "\n",
        "logging.debug('Logging pformatted data')\n",
        "formatted = pformat(data)\n",
        "for line in formatted.splitlines():\n",
        "    logging.debug(line.rstrip())"
      ],
      "execution_count": null,
      "outputs": [
        {
          "output_type": "stream",
          "text": [
            "DEBUG    Logging pformatted data\n",
            "DEBUG    [(1, {'a': 'A', 'b': 'B', 'c': 'C', 'd': 'D'}),\n",
            "DEBUG     (2,\n",
            "DEBUG      {'e': 'E',\n",
            "DEBUG       'f': 'F',\n",
            "DEBUG       'g': 'G',\n",
            "DEBUG       'h': 'H',\n",
            "DEBUG       'i': 'I',\n",
            "DEBUG       'j': 'J',\n",
            "DEBUG       'k': 'K',\n",
            "DEBUG       'l': 'L'}),\n",
            "DEBUG     (3, ['m', 'n']),\n",
            "DEBUG     (4, ['o', 'p', 'q']),\n",
            "DEBUG     (5, ['r', 's', 'tu', 'v', 'x', 'y', 'z'])]\n"
          ],
          "name": "stderr"
        }
      ]
    },
    {
      "cell_type": "markdown",
      "metadata": {
        "id": "JHsNPShXo0fE"
      },
      "source": [
        "***Произвольные классы***\n",
        "\n",
        "Класс PrettyPrinter, используемый функцией pprint (), может также работать c пользовательскими классами, если они определяют метод __repr__ ()."
      ]
    },
    {
      "cell_type": "code",
      "metadata": {
        "id": "v62fjoNNQ_Lp",
        "outputId": "760bc9ea-9a0f-4fe9-8790-efd7f9f804be",
        "colab": {
          "base_uri": "https://localhost:8080/"
        }
      },
      "source": [
        "from pprint import pprint\n",
        "\n",
        "\n",
        "class node:\n",
        "\n",
        "    def __init__(self, name, contents=[]):\n",
        "        self.name = name\n",
        "        self.contents = contents[:]\n",
        "\n",
        "    def __repr__(self):\n",
        "        return (\n",
        "            'node(' + repr(self.name) + ', ' +\n",
        "            repr(self.contents) + ')'\n",
        "        )\n",
        "\n",
        "\n",
        "trees = [\n",
        "    node('node-1'),\n",
        "    node('node-2', [node('node-2-1')]),\n",
        "    node('node-3', [node('node-3-1')]),\n",
        "]\n",
        "pprint(trees)"
      ],
      "execution_count": null,
      "outputs": [
        {
          "output_type": "stream",
          "text": [
            "[node('node-1', []),\n",
            " node('node-2', [node('node-2-1', [])]),\n",
            " node('node-3', [node('node-3-1', [])])]\n"
          ],
          "name": "stdout"
        }
      ]
    },
    {
      "cell_type": "markdown",
      "metadata": {
        "id": "-cDQZMXmo1TQ"
      },
      "source": [
        "***Рекурсия*** \n"
      ]
    },
    {
      "cell_type": "code",
      "metadata": {
        "id": "_NQdoRpsRHvE",
        "outputId": "63adef66-0422-4014-e776-803c7228d073",
        "colab": {
          "base_uri": "https://localhost:8080/"
        }
      },
      "source": [
        "from pprint import pprint\n",
        "\n",
        "local_data = ['a', 'b', 1, 2]\n",
        "local_data.append(local_data)\n",
        "\n",
        "print('id(local_data) =>', id(local_data))\n",
        "pprint(local_data)"
      ],
      "execution_count": null,
      "outputs": [
        {
          "output_type": "stream",
          "text": [
            "id(local_data) => 140605796426632\n",
            "['a', 'b', 1, 2, <Recursion on list with id=140605796426632>]\n"
          ],
          "name": "stdout"
        }
      ]
    },
    {
      "cell_type": "markdown",
      "metadata": {
        "id": "BpzgjEl4o19l"
      },
      "source": [
        "***Ограничение уровня выводимых вложенных структур***\n",
        "\n",
        "Для структур c большой глубиной вложения подробный вывод всех вложенных структур данных не всегда желателен. В подобных случаях данные могут не\n",
        "форматироваться надлежащим образом, объем форматированного текста может\n",
        "оказаться очень большим, а некоторые данные могут оказаться инородными."
      ]
    },
    {
      "cell_type": "code",
      "metadata": {
        "id": "XYGWB4HIRKKs",
        "outputId": "abfa877a-110b-486a-c9bf-4bbdf146f118",
        "colab": {
          "base_uri": "https://localhost:8080/"
        }
      },
      "source": [
        "from pprint import pprint\n",
        "\n",
        "pprint(data, depth=1)\n",
        "pprint(data, depth=2)"
      ],
      "execution_count": null,
      "outputs": [
        {
          "output_type": "stream",
          "text": [
            "[(...), (...), (...), (...), (...)]\n",
            "[(1, {...}), (2, {...}), (3, [...]), (4, [...]), (5, [...])]\n"
          ],
          "name": "stdout"
        }
      ]
    },
    {
      "cell_type": "markdown",
      "metadata": {
        "id": "IpgHlMf2o2ch"
      },
      "source": [
        "***Управление шириной вывода***\n",
        "\n",
        "Ширина вывода форматированного текста, используемая по умолчанию, составляет 80 столбцов. Этим параметром можно управлять, передавая функции print() аргумент width.\n",
        "\n",
        "При слишком малых значениях width, недостаточных для размещения форматированной структуры данных в заданных пределах, строки не усекаются и не переходят на следующую строку, если это приведет к нарушению синтаксиса."
      ]
    },
    {
      "cell_type": "code",
      "metadata": {
        "id": "5k2mQolARUak",
        "outputId": "da7e5274-aed2-4908-fed2-9613ba1db294",
        "colab": {
          "base_uri": "https://localhost:8080/"
        }
      },
      "source": [
        "from pprint import pprint\n",
        "\n",
        "for width in [80, 5]:\n",
        "    print('WIDTH =', width)\n",
        "    pprint(data, width=width)\n",
        "    print()"
      ],
      "execution_count": null,
      "outputs": [
        {
          "output_type": "stream",
          "text": [
            "WIDTH = 80\n",
            "[(1, {'a': 'A', 'b': 'B', 'c': 'C', 'd': 'D'}),\n",
            " (2,\n",
            "  {'e': 'E',\n",
            "   'f': 'F',\n",
            "   'g': 'G',\n",
            "   'h': 'H',\n",
            "   'i': 'I',\n",
            "   'j': 'J',\n",
            "   'k': 'K',\n",
            "   'l': 'L'}),\n",
            " (3, ['m', 'n']),\n",
            " (4, ['o', 'p', 'q']),\n",
            " (5, ['r', 's', 'tu', 'v', 'x', 'y', 'z'])]\n",
            "\n",
            "WIDTH = 5\n",
            "[(1,\n",
            "  {'a': 'A',\n",
            "   'b': 'B',\n",
            "   'c': 'C',\n",
            "   'd': 'D'}),\n",
            " (2,\n",
            "  {'e': 'E',\n",
            "   'f': 'F',\n",
            "   'g': 'G',\n",
            "   'h': 'H',\n",
            "   'i': 'I',\n",
            "   'j': 'J',\n",
            "   'k': 'K',\n",
            "   'l': 'L'}),\n",
            " (3,\n",
            "  ['m',\n",
            "   'n']),\n",
            " (4,\n",
            "  ['o',\n",
            "   'p',\n",
            "   'q']),\n",
            " (5,\n",
            "  ['r',\n",
            "   's',\n",
            "   'tu',\n",
            "   'v',\n",
            "   'x',\n",
            "   'y',\n",
            "   'z'])]\n",
            "\n"
          ],
          "name": "stdout"
        }
      ]
    },
    {
      "cell_type": "markdown",
      "metadata": {
        "id": "x6gOvuc5o26_"
      },
      "source": [
        "Флаг **compact** позволяет сообщить функции pprint (), чтобы она попыталась\n",
        "уместить в каждой строке как можно больше данных, а не распределяла сложные\n",
        "структуры данных по нескольким строкам."
      ]
    },
    {
      "cell_type": "code",
      "metadata": {
        "id": "RSr7uNUORvBd",
        "outputId": "3d0ef49a-70bd-4df4-ae01-2f805c8a0d8b",
        "colab": {
          "base_uri": "https://localhost:8080/"
        }
      },
      "source": [
        "from pprint import pprint\n",
        "\n",
        "\n",
        "print('DEFAULT:')\n",
        "pprint(data, compact=False)\n",
        "print('\\nCOMPACT:')\n",
        "pprint(data, compact=True)"
      ],
      "execution_count": null,
      "outputs": [
        {
          "output_type": "stream",
          "text": [
            "DEFAULT:\n",
            "[(1, {'a': 'A', 'b': 'B', 'c': 'C', 'd': 'D'}),\n",
            " (2,\n",
            "  {'e': 'E',\n",
            "   'f': 'F',\n",
            "   'g': 'G',\n",
            "   'h': 'H',\n",
            "   'i': 'I',\n",
            "   'j': 'J',\n",
            "   'k': 'K',\n",
            "   'l': 'L'}),\n",
            " (3, ['m', 'n']),\n",
            " (4, ['o', 'p', 'q']),\n",
            " (5, ['r', 's', 'tu', 'v', 'x', 'y', 'z'])]\n",
            "\n",
            "COMPACT:\n",
            "[(1, {'a': 'A', 'b': 'B', 'c': 'C', 'd': 'D'}),\n",
            " (2,\n",
            "  {'e': 'E',\n",
            "   'f': 'F',\n",
            "   'g': 'G',\n",
            "   'h': 'H',\n",
            "   'i': 'I',\n",
            "   'j': 'J',\n",
            "   'k': 'K',\n",
            "   'l': 'L'}),\n",
            " (3, ['m', 'n']), (4, ['o', 'p', 'q']),\n",
            " (5, ['r', 's', 'tu', 'v', 'x', 'y', 'z'])]\n"
          ],
          "name": "stdout"
        }
      ]
    },
    {
      "cell_type": "markdown",
      "metadata": {
        "id": "CJmKANBKo3dr"
      },
      "source": [
        "https://docs.python.org/3.5/library/pprint.html"
      ]
    },
    {
      "cell_type": "markdown",
      "metadata": {
        "id": "WWlCwfaybXS7"
      },
      "source": [
        "Задание: Взять любую структуру данных и вывести её с помощью функции print() аргумент width с разным количеством столбцов и сравнить полученные результаты."
      ]
    }
  ]
}