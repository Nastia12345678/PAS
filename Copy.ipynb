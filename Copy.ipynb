{
  "nbformat": 4,
  "nbformat_minor": 0,
  "metadata": {
    "colab": {
      "name": "Копия блокнота \"Untitled1.ipynb\"",
      "provenance": [],
      "collapsed_sections": []
    },
    "kernelspec": {
      "name": "python3",
      "display_name": "Python 3"
    }
  },
  "cells": [
    {
      "cell_type": "markdown",
      "metadata": {
        "id": "faBMI7TKsHTw"
      },
      "source": [
        "# **сору**: создание дубликатов объектов"
      ]
    },
    {
      "cell_type": "markdown",
      "metadata": {
        "id": "yj32BNcfFV-L"
      },
      "source": [
        "***Мелкие копии. Функция copy()***\n",
        "\n",
        " Функция copy() создает мелкую копию объекта, которая представляет собой новый контейнер, заполненный ссылками на содержимое исходного объекта."
      ]
    },
    {
      "cell_type": "code",
      "metadata": {
        "id": "7pn0Zw1-sDqC"
      },
      "source": [
        "import copy\n",
        "import functools\n",
        "\n",
        "@functools.total_ordering\n",
        "class MyClass:\n",
        "\n",
        "    def __init__(self, name):\n",
        "        self.name = name\n",
        "\n",
        "    def __eq__(self, other):\n",
        "        return self.name == other.name\n",
        "\n",
        "    def __gt__(self, other):\n",
        "        return self.name > other.name\n",
        "\n",
        "a = MyClass('a')\n",
        "my_list = [a]\n",
        "dup = copy.copy(my_list)\n",
        "\n",
        "print('             my_list:', my_list)\n",
        "print('                 dup:', dup)\n",
        "print('      dup is my_list:', (dup is my_list))\n",
        "print('      dup == my_list:', (dup == my_list))\n",
        "print('dup[0] is my_list[0]:', (dup[0] is my_list[0]))\n",
        "print('dup[0] == my_list[0]:', (dup[0] == my_list[0]))"
      ],
      "execution_count": null,
      "outputs": []
    },
    {
      "cell_type": "markdown",
      "metadata": {
        "id": "wm1PcMjhKVK0"
      },
      "source": [
        "В случае мелкого копирования дубликат экземпляра MyClass не создается, по-\n",
        "этому ссылка, хранящаяся в переменной dup, указывает на тот же объект, что и\n",
        "ссылка, хранящаяся в переменной my_list."
      ]
    },
    {
      "cell_type": "markdown",
      "metadata": {
        "id": "9gLRl2NHsFBt"
      },
      "source": [
        "***Глубокие копии. Функция deepcopy()***\n",
        "\n",
        "Функция deepcopy () создает глубокую копию объекта, которая представляет\n",
        "собой новый контейнер, заполненный копиями содержимого исходного объекта."
      ]
    },
    {
      "cell_type": "code",
      "metadata": {
        "id": "mh1E1u7j8gmL",
        "outputId": "ec78d4c1-19b3-4f6d-a58e-6ea1bb2c16ad",
        "colab": {
          "base_uri": "https://localhost:8080/"
        }
      },
      "source": [
        "import copy\n",
        "import functools\n",
        "\n",
        "@functools.total_ordering\n",
        "class MyClass:\n",
        "\n",
        "    def __init__(self, name):\n",
        "        self.name = name\n",
        "\n",
        "    def __eq__(self, other):\n",
        "        return self.name == other.name\n",
        "\n",
        "    def __gt__(self, other):\n",
        "        return self.name > other.name\n",
        "\n",
        "a = MyClass('a')\n",
        "my_list = [a]\n",
        "dup = copy.deepcopy(my_list)\n",
        "\n",
        "print('             my_list:', my_list)\n",
        "print('                 dup:', dup)\n",
        "print('      dup is my_list:', (dup is my_list))\n",
        "print('      dup == my_list:', (dup == my_list))\n",
        "print('dup[0] is my_list[0]:', (dup[0] is my_list[0]))\n",
        "print('dup[0] == my_list[0]:', (dup[0] == my_list[0]))"
      ],
      "execution_count": null,
      "outputs": [
        {
          "output_type": "stream",
          "text": [
            "             my_list: [<__main__.MyClass object at 0x7f1a0e7ad8d0>]\n",
            "                 dup: [<__main__.MyClass object at 0x7f1a0de8c588>]\n",
            "      dup is my_list: False\n",
            "      dup == my_list: True\n",
            "dup[0] is my_list[0]: False\n",
            "dup[0] == my_list[0]: True\n"
          ],
          "name": "stdout"
        }
      ]
    },
    {
      "cell_type": "markdown",
      "metadata": {
        "id": "EhKdPWXIGM7N"
      },
      "source": [
        "***Настройка поведения копирования***\n",
        "\n",
        "*   __copy__() вызывается без аргументов и должен возвращать неглубокую копию объекта.\n",
        "*   __deepcopy__()вызывается со словарем памяток и должен возвращать полную копию объекта.\n",
        "\n"
      ]
    },
    {
      "cell_type": "code",
      "metadata": {
        "id": "wU4A_tWC-Tqy",
        "outputId": "33f4cdf1-2c87-4dcf-bee1-eca0fef1b636",
        "colab": {
          "base_uri": "https://localhost:8080/"
        }
      },
      "source": [
        "import copy\n",
        "import functools\n",
        "\n",
        "@functools.total_ordering\n",
        "class MyClass:\n",
        "\n",
        "    def __init__(self, name):\n",
        "        self.name = name\n",
        "\n",
        "    def __eq__(self, other):\n",
        "        return self.name == other.name\n",
        "\n",
        "    def __gt__(self, other):\n",
        "        return self.name > other.name\n",
        "(self):\n",
        "        print('__copy__()')\n",
        "        return MyClass(self.name)\n",
        "\n",
        "    def __copy__\n",
        "    def __deepcopy__(self, memo):\n",
        "        print('__deepcopy__({})'.format(memo))\n",
        "        return MyClass(copy.deepcopy(self.name, memo))\n",
        "\n",
        "a = MyClass('a')\n",
        "\n",
        "sc = copy.copy(a)\n",
        "dc = copy.deepcopy(a)"
      ],
      "execution_count": null,
      "outputs": [
        {
          "output_type": "stream",
          "text": [
            "__copy__()\n",
            "__deepcopy__({})\n"
          ],
          "name": "stdout"
        }
      ]
    },
    {
      "cell_type": "markdown",
      "metadata": {
        "id": "13SHF1v6GlxD"
      },
      "source": [
        "***Рекурсия в Deep Copy***\n",
        "\n",
        "Чтобы избежать проблем c копированием рекурсивных структур данных,\n",
        "метод deepcopy () использует вспомогательный словарь, c помощью которого\n",
        "отслеживает уже скопированные данные."
      ]
    },
    {
      "cell_type": "code",
      "metadata": {
        "id": "DcGCc70TGn2L",
        "outputId": "73775d9f-0ce3-4055-9f9e-57707c9d9bd3",
        "colab": {
          "base_uri": "https://localhost:8080/"
        }
      },
      "source": [
        "import copy\n",
        "\n",
        "class Graph:\n",
        "\n",
        "    def __init__(self, name, connections):\n",
        "        self.name = name\n",
        "        self.connections = connections\n",
        "\n",
        "    def add_connection(self, other):\n",
        "        self.connections.append(other)\n",
        "\n",
        "    def __repr__(self):\n",
        "        return 'Graph(name={}, id={})'.format(\n",
        "            self.name, id(self))\n",
        "\n",
        "    def __deepcopy__(self, memo):\n",
        "        print('\\nCalling __deepcopy__ for {!r}'.format(self))\n",
        "        if self in memo:\n",
        "            existing = memo.get(self)\n",
        "            print('  Already copied to {!r}'.format(existing))\n",
        "            return existing\n",
        "        print('  Memo dictionary:')\n",
        "        if memo:\n",
        "            for k, v in memo.items():\n",
        "                print('    {}: {}'.format(k, v))\n",
        "        else:\n",
        "            print('    (empty)')\n",
        "        dup = Graph(copy.deepcopy(self.name, memo), [])\n",
        "        print('  Copying to new object {}'.format(dup))\n",
        "        memo[self] = dup\n",
        "        for c in self.connections:\n",
        "            dup.add_connection(copy.deepcopy(c, memo))\n",
        "        return dup\n",
        "\n",
        "root = Graph('root', [])\n",
        "a = Graph('a', [root])\n",
        "b = Graph('b', [a, root])\n",
        "root.add_connection(a)\n",
        "root.add_connection(b)\n",
        "\n",
        "dup = copy.deepcopy(root)"
      ],
      "execution_count": null,
      "outputs": [
        {
          "output_type": "stream",
          "text": [
            "\n",
            "Calling __deepcopy__ for Graph(name=root, id=139749879299768)\n",
            "  Memo dictionary:\n",
            "    (empty)\n",
            "  Copying to new object Graph(name=root, id=139749879361432)\n",
            "\n",
            "Calling __deepcopy__ for Graph(name=a, id=139749879296128)\n",
            "  Memo dictionary:\n",
            "    Graph(name=root, id=139749879299768): Graph(name=root, id=139749879361432)\n",
            "  Copying to new object Graph(name=a, id=139749879298872)\n",
            "\n",
            "Calling __deepcopy__ for Graph(name=root, id=139749879299768)\n",
            "  Already copied to Graph(name=root, id=139749879361432)\n",
            "\n",
            "Calling __deepcopy__ for Graph(name=b, id=139749879299488)\n",
            "  Memo dictionary:\n",
            "    Graph(name=root, id=139749879299768): Graph(name=root, id=139749879361432)\n",
            "    Graph(name=a, id=139749879296128): Graph(name=a, id=139749879298872)\n",
            "    139749879299768: Graph(name=root, id=139749879361432)\n",
            "    139749879147616: [Graph(name=root, id=139749879299768), Graph(name=a, id=139749879296128)]\n",
            "    139749879296128: Graph(name=a, id=139749879298872)\n",
            "  Copying to new object Graph(name=b, id=139749879299824)\n"
          ],
          "name": "stdout"
        }
      ]
    },
    {
      "cell_type": "markdown",
      "metadata": {
        "id": "rpJq9SMpOFl6"
      },
      "source": [
        "Если при копировании какого-либо узла корневой узел встречается второй\n",
        "раз, то метод __deepcopy__ () обнаруживает рекурсию и повторно использует существующее значение из вспомогательного словаря, а не создает новый объект."
      ]
    },
    {
      "cell_type": "markdown",
      "metadata": {
        "id": "7pMa4mY1OR8v"
      },
      "source": [
        "https://docs.python.org/3.5/library/copy.html"
      ]
    },
    {
      "cell_type": "markdown",
      "metadata": {
        "id": "YWrNNN6xaUxL"
      },
      "source": [
        "Задание: Создать список, напрмер список группы. И копировать его двумя способами: Поверхностным и полным. "
      ]
    }
  ]
}
